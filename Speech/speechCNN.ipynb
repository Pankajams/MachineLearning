{
  "nbformat": 4,
  "nbformat_minor": 0,
  "metadata": {
    "colab": {
      "name": "speechCNN.ipynb",
      "provenance": []
    },
    "kernelspec": {
      "name": "python3",
      "display_name": "Python 3"
    },
    "language_info": {
      "name": "python"
    },
    "accelerator": "GPU",
    "widgets": {
      "application/vnd.jupyter.widget-state+json": {
        "da99b0ce77104eada4b9c5f71db9cba4": {
          "model_module": "@jupyter-widgets/controls",
          "model_name": "HBoxModel",
          "state": {
            "_view_name": "HBoxView",
            "_dom_classes": [],
            "_model_name": "HBoxModel",
            "_view_module": "@jupyter-widgets/controls",
            "_model_module_version": "1.5.0",
            "_view_count": null,
            "_view_module_version": "1.5.0",
            "box_style": "",
            "layout": "IPY_MODEL_24599421fc78457f93e0c023c2208e73",
            "_model_module": "@jupyter-widgets/controls",
            "children": [
              "IPY_MODEL_86840ff8b96b443e972f1d59b3a1dd14",
              "IPY_MODEL_be03859ac67541538928f1a5c54ff784"
            ]
          }
        },
        "24599421fc78457f93e0c023c2208e73": {
          "model_module": "@jupyter-widgets/base",
          "model_name": "LayoutModel",
          "state": {
            "_view_name": "LayoutView",
            "grid_template_rows": null,
            "right": null,
            "justify_content": null,
            "_view_module": "@jupyter-widgets/base",
            "overflow": null,
            "_model_module_version": "1.2.0",
            "_view_count": null,
            "flex_flow": null,
            "width": null,
            "min_width": null,
            "border": null,
            "align_items": null,
            "bottom": null,
            "_model_module": "@jupyter-widgets/base",
            "top": null,
            "grid_column": null,
            "overflow_y": null,
            "overflow_x": null,
            "grid_auto_flow": null,
            "grid_area": null,
            "grid_template_columns": null,
            "flex": null,
            "_model_name": "LayoutModel",
            "justify_items": null,
            "grid_row": null,
            "max_height": null,
            "align_content": null,
            "visibility": null,
            "align_self": null,
            "height": null,
            "min_height": null,
            "padding": null,
            "grid_auto_rows": null,
            "grid_gap": null,
            "max_width": null,
            "order": null,
            "_view_module_version": "1.2.0",
            "grid_template_areas": null,
            "object_position": null,
            "object_fit": null,
            "grid_auto_columns": null,
            "margin": null,
            "display": null,
            "left": null
          }
        },
        "86840ff8b96b443e972f1d59b3a1dd14": {
          "model_module": "@jupyter-widgets/controls",
          "model_name": "FloatProgressModel",
          "state": {
            "_view_name": "ProgressView",
            "style": "IPY_MODEL_298b77cedd9940aca45df2febe6f9c1b",
            "_dom_classes": [],
            "description": "100%",
            "_model_name": "FloatProgressModel",
            "bar_style": "success",
            "max": 2428923189,
            "_view_module": "@jupyter-widgets/controls",
            "_model_module_version": "1.5.0",
            "value": 2428923189,
            "_view_count": null,
            "_view_module_version": "1.5.0",
            "orientation": "horizontal",
            "min": 0,
            "description_tooltip": null,
            "_model_module": "@jupyter-widgets/controls",
            "layout": "IPY_MODEL_54d41f41e44546e393f6aa2c95d16956"
          }
        },
        "be03859ac67541538928f1a5c54ff784": {
          "model_module": "@jupyter-widgets/controls",
          "model_name": "HTMLModel",
          "state": {
            "_view_name": "HTMLView",
            "style": "IPY_MODEL_d9dee56a46014134b78d8ff8d1b9dda5",
            "_dom_classes": [],
            "description": "",
            "_model_name": "HTMLModel",
            "placeholder": "​",
            "_view_module": "@jupyter-widgets/controls",
            "_model_module_version": "1.5.0",
            "value": " 2.26G/2.26G [00:35&lt;00:00, 68.0MB/s]",
            "_view_count": null,
            "_view_module_version": "1.5.0",
            "description_tooltip": null,
            "_model_module": "@jupyter-widgets/controls",
            "layout": "IPY_MODEL_b40833fd65b84688916a3038c03e95a8"
          }
        },
        "298b77cedd9940aca45df2febe6f9c1b": {
          "model_module": "@jupyter-widgets/controls",
          "model_name": "ProgressStyleModel",
          "state": {
            "_view_name": "StyleView",
            "_model_name": "ProgressStyleModel",
            "description_width": "initial",
            "_view_module": "@jupyter-widgets/base",
            "_model_module_version": "1.5.0",
            "_view_count": null,
            "_view_module_version": "1.2.0",
            "bar_color": null,
            "_model_module": "@jupyter-widgets/controls"
          }
        },
        "54d41f41e44546e393f6aa2c95d16956": {
          "model_module": "@jupyter-widgets/base",
          "model_name": "LayoutModel",
          "state": {
            "_view_name": "LayoutView",
            "grid_template_rows": null,
            "right": null,
            "justify_content": null,
            "_view_module": "@jupyter-widgets/base",
            "overflow": null,
            "_model_module_version": "1.2.0",
            "_view_count": null,
            "flex_flow": null,
            "width": null,
            "min_width": null,
            "border": null,
            "align_items": null,
            "bottom": null,
            "_model_module": "@jupyter-widgets/base",
            "top": null,
            "grid_column": null,
            "overflow_y": null,
            "overflow_x": null,
            "grid_auto_flow": null,
            "grid_area": null,
            "grid_template_columns": null,
            "flex": null,
            "_model_name": "LayoutModel",
            "justify_items": null,
            "grid_row": null,
            "max_height": null,
            "align_content": null,
            "visibility": null,
            "align_self": null,
            "height": null,
            "min_height": null,
            "padding": null,
            "grid_auto_rows": null,
            "grid_gap": null,
            "max_width": null,
            "order": null,
            "_view_module_version": "1.2.0",
            "grid_template_areas": null,
            "object_position": null,
            "object_fit": null,
            "grid_auto_columns": null,
            "margin": null,
            "display": null,
            "left": null
          }
        },
        "d9dee56a46014134b78d8ff8d1b9dda5": {
          "model_module": "@jupyter-widgets/controls",
          "model_name": "DescriptionStyleModel",
          "state": {
            "_view_name": "StyleView",
            "_model_name": "DescriptionStyleModel",
            "description_width": "",
            "_view_module": "@jupyter-widgets/base",
            "_model_module_version": "1.5.0",
            "_view_count": null,
            "_view_module_version": "1.2.0",
            "_model_module": "@jupyter-widgets/controls"
          }
        },
        "b40833fd65b84688916a3038c03e95a8": {
          "model_module": "@jupyter-widgets/base",
          "model_name": "LayoutModel",
          "state": {
            "_view_name": "LayoutView",
            "grid_template_rows": null,
            "right": null,
            "justify_content": null,
            "_view_module": "@jupyter-widgets/base",
            "overflow": null,
            "_model_module_version": "1.2.0",
            "_view_count": null,
            "flex_flow": null,
            "width": null,
            "min_width": null,
            "border": null,
            "align_items": null,
            "bottom": null,
            "_model_module": "@jupyter-widgets/base",
            "top": null,
            "grid_column": null,
            "overflow_y": null,
            "overflow_x": null,
            "grid_auto_flow": null,
            "grid_area": null,
            "grid_template_columns": null,
            "flex": null,
            "_model_name": "LayoutModel",
            "justify_items": null,
            "grid_row": null,
            "max_height": null,
            "align_content": null,
            "visibility": null,
            "align_self": null,
            "height": null,
            "min_height": null,
            "padding": null,
            "grid_auto_rows": null,
            "grid_gap": null,
            "max_width": null,
            "order": null,
            "_view_module_version": "1.2.0",
            "grid_template_areas": null,
            "object_position": null,
            "object_fit": null,
            "grid_auto_columns": null,
            "margin": null,
            "display": null,
            "left": null
          }
        },
        "0b429c17e4d440b7a8693f46cec834b1": {
          "model_module": "@jupyter-widgets/controls",
          "model_name": "HBoxModel",
          "state": {
            "_view_name": "HBoxView",
            "_dom_classes": [],
            "_model_name": "HBoxModel",
            "_view_module": "@jupyter-widgets/controls",
            "_model_module_version": "1.5.0",
            "_view_count": null,
            "_view_module_version": "1.5.0",
            "box_style": "",
            "layout": "IPY_MODEL_bf385c7e91d74106905863be60a0f9d4",
            "_model_module": "@jupyter-widgets/controls",
            "children": [
              "IPY_MODEL_3376b16da4544c75a87fa93c2d69ff9a",
              "IPY_MODEL_def2edd89a0741c1b220dbe298236484"
            ]
          }
        },
        "bf385c7e91d74106905863be60a0f9d4": {
          "model_module": "@jupyter-widgets/base",
          "model_name": "LayoutModel",
          "state": {
            "_view_name": "LayoutView",
            "grid_template_rows": null,
            "right": null,
            "justify_content": null,
            "_view_module": "@jupyter-widgets/base",
            "overflow": null,
            "_model_module_version": "1.2.0",
            "_view_count": null,
            "flex_flow": null,
            "width": null,
            "min_width": null,
            "border": null,
            "align_items": null,
            "bottom": null,
            "_model_module": "@jupyter-widgets/base",
            "top": null,
            "grid_column": null,
            "overflow_y": null,
            "overflow_x": null,
            "grid_auto_flow": null,
            "grid_area": null,
            "grid_template_columns": null,
            "flex": null,
            "_model_name": "LayoutModel",
            "justify_items": null,
            "grid_row": null,
            "max_height": null,
            "align_content": null,
            "visibility": null,
            "align_self": null,
            "height": null,
            "min_height": null,
            "padding": null,
            "grid_auto_rows": null,
            "grid_gap": null,
            "max_width": null,
            "order": null,
            "_view_module_version": "1.2.0",
            "grid_template_areas": null,
            "object_position": null,
            "object_fit": null,
            "grid_auto_columns": null,
            "margin": null,
            "display": null,
            "left": null
          }
        },
        "3376b16da4544c75a87fa93c2d69ff9a": {
          "model_module": "@jupyter-widgets/controls",
          "model_name": "FloatProgressModel",
          "state": {
            "_view_name": "ProgressView",
            "style": "IPY_MODEL_76b5a31e1934427aaac4e8b586aeb17d",
            "_dom_classes": [],
            "description": "100%",
            "_model_name": "FloatProgressModel",
            "bar_style": "danger",
            "max": 2,
            "_view_module": "@jupyter-widgets/controls",
            "_model_module_version": "1.5.0",
            "value": 1.9999999999999793,
            "_view_count": null,
            "_view_module_version": "1.5.0",
            "orientation": "horizontal",
            "min": 0,
            "description_tooltip": null,
            "_model_module": "@jupyter-widgets/controls",
            "layout": "IPY_MODEL_bdca2b30f9b543368b7167a468382a43"
          }
        },
        "def2edd89a0741c1b220dbe298236484": {
          "model_module": "@jupyter-widgets/controls",
          "model_name": "HTMLModel",
          "state": {
            "_view_name": "HTMLView",
            "style": "IPY_MODEL_82b25f1a198b4c2f9fe18b31c34b63d0",
            "_dom_classes": [],
            "description": "",
            "_model_name": "HTMLModel",
            "placeholder": "​",
            "_view_module": "@jupyter-widgets/controls",
            "_model_module_version": "1.5.0",
            "value": " 1.9999999999999793/2 [05:57&lt;00:00, 178.94s/it]",
            "_view_count": null,
            "_view_module_version": "1.5.0",
            "description_tooltip": null,
            "_model_module": "@jupyter-widgets/controls",
            "layout": "IPY_MODEL_b4a1606a5df54711b22bb3bf60599371"
          }
        },
        "76b5a31e1934427aaac4e8b586aeb17d": {
          "model_module": "@jupyter-widgets/controls",
          "model_name": "ProgressStyleModel",
          "state": {
            "_view_name": "StyleView",
            "_model_name": "ProgressStyleModel",
            "description_width": "initial",
            "_view_module": "@jupyter-widgets/base",
            "_model_module_version": "1.5.0",
            "_view_count": null,
            "_view_module_version": "1.2.0",
            "bar_color": null,
            "_model_module": "@jupyter-widgets/controls"
          }
        },
        "bdca2b30f9b543368b7167a468382a43": {
          "model_module": "@jupyter-widgets/base",
          "model_name": "LayoutModel",
          "state": {
            "_view_name": "LayoutView",
            "grid_template_rows": null,
            "right": null,
            "justify_content": null,
            "_view_module": "@jupyter-widgets/base",
            "overflow": null,
            "_model_module_version": "1.2.0",
            "_view_count": null,
            "flex_flow": null,
            "width": null,
            "min_width": null,
            "border": null,
            "align_items": null,
            "bottom": null,
            "_model_module": "@jupyter-widgets/base",
            "top": null,
            "grid_column": null,
            "overflow_y": null,
            "overflow_x": null,
            "grid_auto_flow": null,
            "grid_area": null,
            "grid_template_columns": null,
            "flex": null,
            "_model_name": "LayoutModel",
            "justify_items": null,
            "grid_row": null,
            "max_height": null,
            "align_content": null,
            "visibility": null,
            "align_self": null,
            "height": null,
            "min_height": null,
            "padding": null,
            "grid_auto_rows": null,
            "grid_gap": null,
            "max_width": null,
            "order": null,
            "_view_module_version": "1.2.0",
            "grid_template_areas": null,
            "object_position": null,
            "object_fit": null,
            "grid_auto_columns": null,
            "margin": null,
            "display": null,
            "left": null
          }
        },
        "82b25f1a198b4c2f9fe18b31c34b63d0": {
          "model_module": "@jupyter-widgets/controls",
          "model_name": "DescriptionStyleModel",
          "state": {
            "_view_name": "StyleView",
            "_model_name": "DescriptionStyleModel",
            "description_width": "",
            "_view_module": "@jupyter-widgets/base",
            "_model_module_version": "1.5.0",
            "_view_count": null,
            "_view_module_version": "1.2.0",
            "_model_module": "@jupyter-widgets/controls"
          }
        },
        "b4a1606a5df54711b22bb3bf60599371": {
          "model_module": "@jupyter-widgets/base",
          "model_name": "LayoutModel",
          "state": {
            "_view_name": "LayoutView",
            "grid_template_rows": null,
            "right": null,
            "justify_content": null,
            "_view_module": "@jupyter-widgets/base",
            "overflow": null,
            "_model_module_version": "1.2.0",
            "_view_count": null,
            "flex_flow": null,
            "width": null,
            "min_width": null,
            "border": null,
            "align_items": null,
            "bottom": null,
            "_model_module": "@jupyter-widgets/base",
            "top": null,
            "grid_column": null,
            "overflow_y": null,
            "overflow_x": null,
            "grid_auto_flow": null,
            "grid_area": null,
            "grid_template_columns": null,
            "flex": null,
            "_model_name": "LayoutModel",
            "justify_items": null,
            "grid_row": null,
            "max_height": null,
            "align_content": null,
            "visibility": null,
            "align_self": null,
            "height": null,
            "min_height": null,
            "padding": null,
            "grid_auto_rows": null,
            "grid_gap": null,
            "max_width": null,
            "order": null,
            "_view_module_version": "1.2.0",
            "grid_template_areas": null,
            "object_position": null,
            "object_fit": null,
            "grid_auto_columns": null,
            "margin": null,
            "display": null,
            "left": null
          }
        }
      }
    }
  },
  "cells": [
    {
      "cell_type": "code",
      "metadata": {
        "id": "WHu209MJ88KU",
        "colab": {
          "base_uri": "https://localhost:8080/"
        },
        "outputId": "ec05a407-8a68-4dfa-a014-41218c637fc7"
      },
      "source": [
        "%matplotlib inline\n",
        "!pip install torch==1.7.0+cu101 torchvision==0.8.1+cu101 torchaudio==0.7.0 -f https://download.pytorch.org/whl/torch_stable.html\n",
        "!pip install pydub\n",
        "\n",
        "import numpy as np\n",
        "import torch\n",
        "import torch.nn as nn\n",
        "import torch.nn.functional as F\n",
        "import torch.optim as optim\n",
        "import torchaudio\n",
        "\n",
        "import matplotlib.pyplot as plt\n",
        "import IPython.display as ipd\n",
        "from tqdm.notebook import tqdm"
      ],
      "execution_count": 1,
      "outputs": [
        {
          "output_type": "stream",
          "text": [
            "Looking in links: https://download.pytorch.org/whl/torch_stable.html\n",
            "Collecting torch==1.7.0+cu101\n",
            "\u001b[?25l  Downloading https://download.pytorch.org/whl/cu101/torch-1.7.0%2Bcu101-cp37-cp37m-linux_x86_64.whl (735.3MB)\n",
            "\u001b[K     |████████████████████████████████| 735.3MB 25kB/s \n",
            "\u001b[?25hCollecting torchvision==0.8.1+cu101\n",
            "\u001b[?25l  Downloading https://download.pytorch.org/whl/cu101/torchvision-0.8.1%2Bcu101-cp37-cp37m-linux_x86_64.whl (12.7MB)\n",
            "\u001b[K     |████████████████████████████████| 12.7MB 267kB/s \n",
            "\u001b[?25hCollecting torchaudio==0.7.0\n",
            "\u001b[?25l  Downloading https://files.pythonhosted.org/packages/5d/75/5ce994c76cf7b53ff8c577d7a8221fa0c9dfe9e34c0536c6eaf3e466788a/torchaudio-0.7.0-cp37-cp37m-manylinux1_x86_64.whl (7.6MB)\n",
            "\u001b[K     |████████████████████████████████| 7.6MB 7.6MB/s \n",
            "\u001b[?25hCollecting dataclasses\n",
            "  Downloading https://files.pythonhosted.org/packages/26/2f/1095cdc2868052dd1e64520f7c0d5c8c550ad297e944e641dbf1ffbb9a5d/dataclasses-0.6-py3-none-any.whl\n",
            "Requirement already satisfied: typing-extensions in /usr/local/lib/python3.7/dist-packages (from torch==1.7.0+cu101) (3.7.4.3)\n",
            "Requirement already satisfied: future in /usr/local/lib/python3.7/dist-packages (from torch==1.7.0+cu101) (0.16.0)\n",
            "Requirement already satisfied: numpy in /usr/local/lib/python3.7/dist-packages (from torch==1.7.0+cu101) (1.19.5)\n",
            "Requirement already satisfied: pillow>=4.1.1 in /usr/local/lib/python3.7/dist-packages (from torchvision==0.8.1+cu101) (7.1.2)\n",
            "\u001b[31mERROR: torchtext 0.9.1 has requirement torch==1.8.1, but you'll have torch 1.7.0+cu101 which is incompatible.\u001b[0m\n",
            "Installing collected packages: dataclasses, torch, torchvision, torchaudio\n",
            "  Found existing installation: torch 1.8.1+cu101\n",
            "    Uninstalling torch-1.8.1+cu101:\n",
            "      Successfully uninstalled torch-1.8.1+cu101\n",
            "  Found existing installation: torchvision 0.9.1+cu101\n",
            "    Uninstalling torchvision-0.9.1+cu101:\n",
            "      Successfully uninstalled torchvision-0.9.1+cu101\n",
            "Successfully installed dataclasses-0.6 torch-1.7.0+cu101 torchaudio-0.7.0 torchvision-0.8.1+cu101\n",
            "Collecting pydub\n",
            "  Downloading https://files.pythonhosted.org/packages/a6/53/d78dc063216e62fc55f6b2eebb447f6a4b0a59f55c8406376f76bf959b08/pydub-0.25.1-py2.py3-none-any.whl\n",
            "Installing collected packages: pydub\n",
            "Successfully installed pydub-0.25.1\n"
          ],
          "name": "stdout"
        },
        {
          "output_type": "stream",
          "text": [
            "/usr/local/lib/python3.7/dist-packages/torchaudio/backend/utils.py:54: UserWarning: \"sox\" backend is being deprecated. The default backend will be changed to \"sox_io\" backend in 0.8.0 and \"sox\" backend will be removed in 0.9.0. Please migrate to \"sox_io\" backend. Please refer to https://github.com/pytorch/audio/issues/903 for the detail.\n",
            "  '\"sox\" backend is being deprecated. '\n"
          ],
          "name": "stderr"
        }
      ]
    },
    {
      "cell_type": "code",
      "metadata": {
        "id": "ncctaXjk89hc",
        "colab": {
          "base_uri": "https://localhost:8080/"
        },
        "outputId": "f7ba6e76-394a-4c9a-bdae-742e3d807950"
      },
      "source": [
        "print(torch.cuda.is_available())"
      ],
      "execution_count": 2,
      "outputs": [
        {
          "output_type": "stream",
          "text": [
            "True\n"
          ],
          "name": "stdout"
        }
      ]
    },
    {
      "cell_type": "code",
      "metadata": {
        "id": "4QD2ZTM_9A5Q"
      },
      "source": [
        "from torchaudio.datasets import SPEECHCOMMANDS\n",
        "import os"
      ],
      "execution_count": 3,
      "outputs": []
    },
    {
      "cell_type": "code",
      "metadata": {
        "id": "4sVzYZ_n9DQ6",
        "colab": {
          "base_uri": "https://localhost:8080/",
          "height": 66,
          "referenced_widgets": [
            "da99b0ce77104eada4b9c5f71db9cba4",
            "24599421fc78457f93e0c023c2208e73",
            "86840ff8b96b443e972f1d59b3a1dd14",
            "be03859ac67541538928f1a5c54ff784",
            "298b77cedd9940aca45df2febe6f9c1b",
            "54d41f41e44546e393f6aa2c95d16956",
            "d9dee56a46014134b78d8ff8d1b9dda5",
            "b40833fd65b84688916a3038c03e95a8"
          ]
        },
        "outputId": "d0525637-34a3-4f02-9dcf-7e917828640d"
      },
      "source": [
        "#Define a class subset derived from SpeechCommands\n",
        "class SubsetSC(SPEECHCOMMANDS):\n",
        "      def __init__(self, subset: str = None):\n",
        "          super().__init__(\"./\", download=True)\n",
        "\n",
        "        # member function to load list of a particular split\n",
        "          def load_list(filename):\n",
        "              filepath = os.path.join(self._path, filename)\n",
        "              with open(filepath) as fileobj:\n",
        "                  return [os.path.join(self._path, line.strip()) for line in fileobj]\n",
        "\n",
        "          if subset == \"validation\":\n",
        "              self._walker = load_list(\"validation_list.txt\")\n",
        "          elif subset == \"testing\":\n",
        "              self._walker = load_list(\"testing_list.txt\")\n",
        "          elif subset == \"training\":\n",
        "              excludes = load_list(\"validation_list.txt\") + load_list(\"testing_list.txt\")\n",
        "              excludes = set(excludes)\n",
        "              self._walker = [w for w in self._walker if w not in excludes]\n",
        "\n",
        "\n",
        "train_set = SubsetSC(\"training\")\n",
        "test_set = SubsetSC(\"testing\")\n"
      ],
      "execution_count": 6,
      "outputs": [
        {
          "output_type": "display_data",
          "data": {
            "application/vnd.jupyter.widget-view+json": {
              "model_id": "da99b0ce77104eada4b9c5f71db9cba4",
              "version_minor": 0,
              "version_major": 2
            },
            "text/plain": [
              "HBox(children=(FloatProgress(value=0.0, max=2428923189.0), HTML(value='')))"
            ]
          },
          "metadata": {
            "tags": []
          }
        },
        {
          "output_type": "stream",
          "text": [
            "\n"
          ],
          "name": "stdout"
        }
      ]
    },
    {
      "cell_type": "code",
      "metadata": {
        "id": "IzWwMeuo9F_L",
        "colab": {
          "base_uri": "https://localhost:8080/"
        },
        "outputId": "52d24195-2fd5-476e-8399-57be8c6884ea"
      },
      "source": [
        "print(len(train_set))\n",
        "print(len(test_set))\n",
        "print(train_set[0])\n",
        "waveform, sample_rate, label, speaker_id, utterance_number = train_set[0]\n"
      ],
      "execution_count": 7,
      "outputs": [
        {
          "output_type": "stream",
          "text": [
            "84843\n",
            "11005\n",
            "(tensor([[-0.0658, -0.0709, -0.0753,  ..., -0.0700, -0.0731, -0.0704]]), 16000, 'backward', '0165e0e8', 0)\n"
          ],
          "name": "stdout"
        }
      ]
    },
    {
      "cell_type": "code",
      "metadata": {
        "id": "kjX9wVEq9IrC",
        "colab": {
          "base_uri": "https://localhost:8080/",
          "height": 299
        },
        "outputId": "de3f7b1c-4c17-4410-a3b6-efda79cc4244"
      },
      "source": [
        "print(\"Shape of waveform: {}\".format(waveform.size()))\n",
        "print(\"Sample rate of waveform: {}\".format(sample_rate))\n",
        "plt.plot(waveform.t().numpy());"
      ],
      "execution_count": 8,
      "outputs": [
        {
          "output_type": "stream",
          "text": [
            "Shape of waveform: torch.Size([1, 16000])\n",
            "Sample rate of waveform: 16000\n"
          ],
          "name": "stdout"
        },
        {
          "output_type": "display_data",
          "data": {
            "image/png": "[encoded data removed]",
            "text/plain": [
              "<Figure size 432x288 with 1 Axes>"
            ]
          },
          "metadata": {
            "tags": [],
            "needs_background": "light"
          }
        }
      ]
    },
    {
      "cell_type": "code",
      "metadata": {
        "id": "hAGIIfWw9P56",
        "colab": {
          "base_uri": "https://localhost:8080/"
        },
        "outputId": "cda78a58-66ed-42c5-f23a-a37b32900850"
      },
      "source": [
        "labels = {datapoint[2] for datapoint in train_set}\n",
        "labels"
      ],
      "execution_count": 9,
      "outputs": [
        {
          "output_type": "execute_result",
          "data": {
            "text/plain": [
              "{'backward',\n",
              " 'bed',\n",
              " 'bird',\n",
              " 'cat',\n",
              " 'dog',\n",
              " 'down',\n",
              " 'eight',\n",
              " 'five',\n",
              " 'follow',\n",
              " 'forward',\n",
              " 'four',\n",
              " 'go',\n",
              " 'happy',\n",
              " 'house',\n",
              " 'learn',\n",
              " 'left',\n",
              " 'marvin',\n",
              " 'nine',\n",
              " 'no',\n",
              " 'off',\n",
              " 'on',\n",
              " 'one',\n",
              " 'right',\n",
              " 'seven',\n",
              " 'sheila',\n",
              " 'six',\n",
              " 'stop',\n",
              " 'three',\n",
              " 'tree',\n",
              " 'two',\n",
              " 'up',\n",
              " 'visual',\n",
              " 'wow',\n",
              " 'yes',\n",
              " 'zero'}"
            ]
          },
          "metadata": {
            "tags": []
          },
          "execution_count": 9
        }
      ]
    },
    {
      "cell_type": "code",
      "metadata": {
        "colab": {
          "base_uri": "https://localhost:8080/",
          "height": 109
        },
        "id": "B8R6QLlC9cR7",
        "outputId": "71aad2f3-e266-48f7-af4e-a615401a5117"
      },
      "source": [
        "rand_id=np.random.randint(len(train_set))\n",
        "print(rand_id)\n",
        "print(train_set[rand_id][2])\n",
        "waveform_first, *_ = train_set[rand_id]\n",
        "ipd.Audio(waveform_first.numpy(), rate=sample_rate)"
      ],
      "execution_count": 10,
      "outputs": [
        {
          "output_type": "stream",
          "text": [
            "77132\n",
            "wow\n"
          ],
          "name": "stdout"
        },
        {
          "output_type": "execute_result",
          "data": {
            "text/html": [
              "\n",
              "                <audio controls=\"controls\" >\n",
              "                    <source src=\"data:audio/wav;base64,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\" type=\"audio/wav\" />\n",
              "                    Your browser does not support the audio element.\n",
              "                </audio>\n",
              "              "
            ],
            "text/plain": [
              "<IPython.lib.display.Audio object>"
            ]
          },
          "metadata": {
            "tags": []
          },
          "execution_count": 10
        }
      ]
    },
    {
      "cell_type": "code",
      "metadata": {
        "colab": {
          "base_uri": "https://localhost:8080/",
          "height": 75
        },
        "id": "KcscnBQ99fn5",
        "outputId": "dcd5787c-c337-4567-bbd8-6d0580f67ac7"
      },
      "source": [
        "new_sample_rate = 8000\n",
        "transform = torchaudio.transforms.Resample(orig_freq=sample_rate, new_freq=new_sample_rate)\n",
        "transformed = transform(waveform_first)\n",
        "ipd.Audio(transformed.numpy(), rate=new_sample_rate)"
      ],
      "execution_count": 11,
      "outputs": [
        {
          "output_type": "execute_result",
          "data": {
            "text/html": [
              "\n",
              "                <audio controls=\"controls\" >\n",
              "                    <source src=\"data:audio/wav;base64,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\" type=\"audio/wav\" />\n",
              "                    Your browser does not support the audio element.\n",
              "                </audio>\n",
              "              "
            ],
            "text/plain": [
              "<IPython.lib.display.Audio object>"
            ]
          },
          "metadata": {
            "tags": []
          },
          "execution_count": 11
        }
      ]
    },
    {
      "cell_type": "code",
      "metadata": {
        "id": "oFwyki_g9gMF"
      },
      "source": [
        "labels=sorted(list(labels))"
      ],
      "execution_count": 12,
      "outputs": []
    },
    {
      "cell_type": "code",
      "metadata": {
        "colab": {
          "base_uri": "https://localhost:8080/"
        },
        "id": "QiJg8N8I9gYD",
        "outputId": "bec287bc-d912-49fb-b594-8685582647e5"
      },
      "source": [
        "def label_to_index(word):\n",
        "    # Return the position of the word in labels\n",
        "    return torch.tensor(labels.index(word))\n",
        "\n",
        "\n",
        "def index_to_label(index):\n",
        "    # Return the word corresponding to the index in labels\n",
        "    # This is the inverse of label_to_index\n",
        "    return labels[index]\n",
        "\n",
        "\n",
        "word_start = labels[np.random.randint(len(labels))]\n",
        "index = label_to_index(word_start)\n",
        "word_recovered = index_to_label(index)\n",
        "\n",
        "print(word_start, \"-->\", index, \"-->\", word_recovered)"
      ],
      "execution_count": 13,
      "outputs": [
        {
          "output_type": "stream",
          "text": [
            "house --> tensor(13) --> house\n"
          ],
          "name": "stdout"
        }
      ]
    },
    {
      "cell_type": "code",
      "metadata": {
        "id": "ZZ-YmD7A9juo"
      },
      "source": [
        "def pad_sequence(batch):\n",
        "    # Make all tensor in a batch the same length by padding with zeros\n",
        "    batch = [item.t() for item in batch]\n",
        "    batch = torch.nn.utils.rnn.pad_sequence(batch, batch_first=True, padding_value=0.)\n",
        "    return batch.permute(0, 2, 1)\n",
        "\n",
        "\n",
        "def collate_fn(batch):\n",
        "\n",
        "    # A data tuple has the form:\n",
        "    # waveform, sample_rate, label, speaker_id, utterance_number\n",
        "\n",
        "    tensors, targets = [], []\n",
        "\n",
        "    # Gather in lists, and encode labels as indices\n",
        "    for waveform, _, label, *_ in batch:\n",
        "        tensors += [transform(waveform)]\n",
        "        targets += [label_to_index(label)]\n",
        "\n",
        "    # Group the list of tensors into a batched tensor\n",
        "    tensors = pad_sequence(tensors)\n",
        "    targets = torch.stack(targets)\n",
        "\n",
        "    return tensors, targets"
      ],
      "execution_count": 14,
      "outputs": []
    },
    {
      "cell_type": "code",
      "metadata": {
        "id": "ewb5j67H9j9b"
      },
      "source": [
        "device=\"cuda\"\n",
        "batch_size = 256\n",
        "if device == \"cuda\":\n",
        "    num_workers = 1\n",
        "    pin_memory = True\n",
        "else:\n",
        "    num_workers = 0\n",
        "    pin_memory = False\n",
        "\n",
        "train_loader = torch.utils.data.DataLoader(\n",
        "    train_set,\n",
        "    batch_size=batch_size,\n",
        "    shuffle=True,\n",
        "    collate_fn=collate_fn,\n",
        "    num_workers=num_workers,\n",
        "    pin_memory=pin_memory,\n",
        ")\n",
        "test_loader = torch.utils.data.DataLoader(\n",
        "    test_set,\n",
        "    batch_size=batch_size,\n",
        "    shuffle=False,\n",
        "    drop_last=False,\n",
        "    collate_fn=collate_fn,\n",
        "    num_workers=num_workers,\n",
        "    pin_memory=pin_memory,\n",
        ")"
      ],
      "execution_count": 15,
      "outputs": []
    },
    {
      "cell_type": "code",
      "metadata": {
        "id": "xFmDSaJm9tsP"
      },
      "source": [
        "class M5(nn.Module):\n",
        "    def __init__(self, n_input=1, n_output=35, stride=16, n_channel=32):\n",
        "        super().__init__()\n",
        "      # define what each layer looks like\n",
        "        self.conv1 = nn.Conv1d(n_input, n_channel, kernel_size=80, stride=stride)\n",
        "        self.bn1 = nn.BatchNorm1d(n_channel)\n",
        "        self.pool1 = nn.MaxPool1d(4)\n",
        "        self.conv2 = nn.Conv1d(n_channel, n_channel, kernel_size=3)\n",
        "        self.bn2 = nn.BatchNorm1d(n_channel)\n",
        "        self.pool2 = nn.MaxPool1d(4)\n",
        "        self.conv3 = nn.Conv1d(n_channel, 2 * n_channel, kernel_size=3)\n",
        "        self.bn3 = nn.BatchNorm1d(2 * n_channel)\n",
        "        self.pool3 = nn.MaxPool1d(4)\n",
        "        self.conv4 = nn.Conv1d(2 * n_channel, 2 * n_channel, kernel_size=3)\n",
        "        self.bn4 = nn.BatchNorm1d(2 * n_channel)\n",
        "        self.pool4 = nn.MaxPool1d(4)\n",
        "        self.fc1 = nn.Linear(2 * n_channel, n_output)\n",
        "\n",
        "    def forward(self, x):\n",
        "      #What is out information flow through each of the layer\n",
        "        x = self.conv1(x)\n",
        "        x = F.relu(self.bn1(x))\n",
        "        x = self.pool1(x)\n",
        "        x = self.conv2(x)\n",
        "        x = F.relu(self.bn2(x))\n",
        "        x = self.pool2(x)\n",
        "        x = self.conv3(x)\n",
        "        x = F.relu(self.bn3(x))\n",
        "        x = self.pool3(x)\n",
        "        x = self.conv4(x)\n",
        "        x = F.relu(self.bn4(x))\n",
        "        x = self.pool4(x)\n",
        "        x = F.avg_pool1d(x, x.shape[-1])\n",
        "        x = x.permute(0, 2, 1)\n",
        "        x = self.fc1(x)\n",
        "      # our final output is a softmax over the ouput layer which represents the probability of our input being from each class.\n",
        "        return F.log_softmax(x, dim=2)"
      ],
      "execution_count": 16,
      "outputs": []
    },
    {
      "cell_type": "code",
      "metadata": {
        "colab": {
          "base_uri": "https://localhost:8080/"
        },
        "id": "ap2tcFoD9vJ1",
        "outputId": "b8b35d5e-a427-4149-c66a-3c0dde1d2bcd"
      },
      "source": [
        "model = M5(n_input=transformed.shape[0], n_output=len(labels))\n",
        "model.to(device)\n",
        "print(model)\n",
        "\n",
        "\n",
        "def count_parameters(model):\n",
        "    return sum(p.numel() for p in model.parameters() if p.requires_grad)\n",
        "\n",
        "\n",
        "n = count_parameters(model)\n",
        "print(\"Number of parameters: %s\" % n)"
      ],
      "execution_count": 17,
      "outputs": [
        {
          "output_type": "stream",
          "text": [
            "M5(\n",
            "  (conv1): Conv1d(1, 32, kernel_size=(80,), stride=(16,))\n",
            "  (bn1): BatchNorm1d(32, eps=1e-05, momentum=0.1, affine=True, track_running_stats=True)\n",
            "  (pool1): MaxPool1d(kernel_size=4, stride=4, padding=0, dilation=1, ceil_mode=False)\n",
            "  (conv2): Conv1d(32, 32, kernel_size=(3,), stride=(1,))\n",
            "  (bn2): BatchNorm1d(32, eps=1e-05, momentum=0.1, affine=True, track_running_stats=True)\n",
            "  (pool2): MaxPool1d(kernel_size=4, stride=4, padding=0, dilation=1, ceil_mode=False)\n",
            "  (conv3): Conv1d(32, 64, kernel_size=(3,), stride=(1,))\n",
            "  (bn3): BatchNorm1d(64, eps=1e-05, momentum=0.1, affine=True, track_running_stats=True)\n",
            "  (pool3): MaxPool1d(kernel_size=4, stride=4, padding=0, dilation=1, ceil_mode=False)\n",
            "  (conv4): Conv1d(64, 64, kernel_size=(3,), stride=(1,))\n",
            "  (bn4): BatchNorm1d(64, eps=1e-05, momentum=0.1, affine=True, track_running_stats=True)\n",
            "  (pool4): MaxPool1d(kernel_size=4, stride=4, padding=0, dilation=1, ceil_mode=False)\n",
            "  (fc1): Linear(in_features=64, out_features=35, bias=True)\n",
            ")\n",
            "Number of parameters: 26915\n"
          ],
          "name": "stdout"
        }
      ]
    },
    {
      "cell_type": "code",
      "metadata": {
        "id": "jB5qrxNY9xPJ"
      },
      "source": [
        "optimizer = optim.Adam(model.parameters(), lr=0.01, weight_decay=0.0001)\n",
        "scheduler = optim.lr_scheduler.StepLR(optimizer, step_size=20, gamma=0.1)  # reduce the learning after 20 epochs by a factor of 10"
      ],
      "execution_count": 18,
      "outputs": []
    },
    {
      "cell_type": "code",
      "metadata": {
        "id": "WkSmuzBZ90W5"
      },
      "source": [
        "def train(model, epoch, log_interval):\n",
        "  # It is important to set the model to train mode\n",
        "    model.train()\n",
        "    for batch_idx, (data, target) in enumerate(train_loader):\n",
        "\n",
        "        data = data.to(device)\n",
        "        target = target.to(device)\n",
        "\n",
        "        output = model(data)\n",
        "\n",
        "        # negative log-likelihood for a tensor of size (batch x 1 x n_output)\n",
        "        loss = F.nll_loss(output.squeeze(), target)\n",
        "\n",
        "      # import to set gradients to zero to flush out old values\n",
        "        optimizer.zero_grad()\n",
        "\n",
        "      # calculate gradients based on present loss value\n",
        "        loss.backward()\n",
        "\n",
        "      #change weights based on optimiser\n",
        "        optimizer.step()\n",
        "\n",
        "        # print training stats\n",
        "        if batch_idx % log_interval == 0:\n",
        "            print(f\"Train Epoch: {epoch} [{batch_idx * len(data)}/{len(train_loader.dataset)} ({100. * batch_idx / len(train_loader):.0f}%)]\\tLoss: {loss.item():.6f}\")\n",
        "\n",
        "        # update progress bar\n",
        "        pbar.update(pbar_update)\n",
        "        # record loss\n",
        "        losses.append(loss.item())"
      ],
      "execution_count": 19,
      "outputs": []
    },
    {
      "cell_type": "code",
      "metadata": {
        "id": "Tvh2Qvxf94wa"
      },
      "source": [
        "def number_of_correct(pred, target):\n",
        "    # count number of correct predictions\n",
        "    return pred.squeeze().eq(target).sum().item()\n",
        "\n",
        "\n",
        "def get_likely_index(tensor):\n",
        "    # find most likely label index for each element in the batch\n",
        "    return tensor.argmax(dim=-1)\n",
        "\n",
        "\n",
        "def test(model, epoch):\n",
        "  # Important to set the model to eval mode. Without this some layers like batchnorm, dropout etc won't work well\n",
        "    model.eval()\n",
        "    correct = 0\n",
        "    for data, target in test_loader:\n",
        "\n",
        "        data = data.to(device)\n",
        "        target = target.to(device)\n",
        "\n",
        "        output = model(data)\n",
        "\n",
        "        pred = get_likely_index(output)\n",
        "        correct += number_of_correct(pred, target)\n",
        "\n",
        "        # update progress bar\n",
        "        pbar.update(pbar_update)\n",
        "\n",
        "    print(f\"\\nTest Epoch: {epoch}\\tAccuracy: {correct}/{len(test_loader.dataset)} ({100. * correct / len(test_loader.dataset):.0f}%)\\n\")"
      ],
      "execution_count": 20,
      "outputs": []
    },
    {
      "cell_type": "code",
      "metadata": {
        "colab": {
          "base_uri": "https://localhost:8080/",
          "height": 1000,
          "referenced_widgets": [
            "0b429c17e4d440b7a8693f46cec834b1",
            "bf385c7e91d74106905863be60a0f9d4",
            "3376b16da4544c75a87fa93c2d69ff9a",
            "def2edd89a0741c1b220dbe298236484",
            "76b5a31e1934427aaac4e8b586aeb17d",
            "bdca2b30f9b543368b7167a468382a43",
            "82b25f1a198b4c2f9fe18b31c34b63d0",
            "b4a1606a5df54711b22bb3bf60599371"
          ]
        },
        "id": "VfbypYeN9591",
        "outputId": "ed65578d-c681-4145-a514-135645068288"
      },
      "source": [
        "log_interval = 20\n",
        "n_epoch = 2\n",
        "\n",
        "pbar_update = 1 / (len(train_loader) + len(test_loader))\n",
        "losses = []\n",
        "\n",
        "# The transform needs to live on the same device as the model and the data.\n",
        "transform = transform.to(device)\n",
        "with tqdm(total=n_epoch) as pbar:\n",
        "    for epoch in range(1, n_epoch + 1):\n",
        "        train(model, epoch, log_interval)\n",
        "        test(model, epoch)\n",
        "        scheduler.step()\n",
        "\n",
        "# Let's plot the training loss versus the number of iteration.\n",
        "plt.plot(losses);\n",
        "plt.title(\"training loss\");"
      ],
      "execution_count": 22,
      "outputs": [
        {
          "output_type": "display_data",
          "data": {
            "application/vnd.jupyter.widget-view+json": {
              "model_id": "0b429c17e4d440b7a8693f46cec834b1",
              "version_minor": 0,
              "version_major": 2
            },
            "text/plain": [
              "HBox(children=(FloatProgress(value=0.0, max=2.0), HTML(value='')))"
            ]
          },
          "metadata": {
            "tags": []
          }
        },
        {
          "output_type": "stream",
          "text": [
            "Train Epoch: 1 [0/84843 (0%)]\tLoss: 3.793589\n",
            "Train Epoch: 1 [5120/84843 (6%)]\tLoss: 3.249799\n",
            "Train Epoch: 1 [10240/84843 (12%)]\tLoss: 2.811136\n",
            "Train Epoch: 1 [15360/84843 (18%)]\tLoss: 2.412363\n",
            "Train Epoch: 1 [20480/84843 (24%)]\tLoss: 2.044471\n",
            "Train Epoch: 1 [25600/84843 (30%)]\tLoss: 1.957205\n",
            "Train Epoch: 1 [30720/84843 (36%)]\tLoss: 1.748867\n",
            "Train Epoch: 1 [35840/84843 (42%)]\tLoss: 1.669101\n",
            "Train Epoch: 1 [40960/84843 (48%)]\tLoss: 1.683970\n",
            "Train Epoch: 1 [46080/84843 (54%)]\tLoss: 1.571072\n",
            "Train Epoch: 1 [51200/84843 (60%)]\tLoss: 1.514221\n",
            "Train Epoch: 1 [56320/84843 (66%)]\tLoss: 1.407776\n",
            "Train Epoch: 1 [61440/84843 (72%)]\tLoss: 1.191331\n",
            "Train Epoch: 1 [66560/84843 (78%)]\tLoss: 1.246703\n",
            "Train Epoch: 1 [71680/84843 (84%)]\tLoss: 1.340715\n",
            "Train Epoch: 1 [76800/84843 (90%)]\tLoss: 1.025108\n",
            "Train Epoch: 1 [81920/84843 (96%)]\tLoss: 1.045156\n",
            "\n",
            "Test Epoch: 1\tAccuracy: 7117/11005 (65%)\n",
            "\n",
            "Train Epoch: 2 [0/84843 (0%)]\tLoss: 1.004298\n",
            "Train Epoch: 2 [5120/84843 (6%)]\tLoss: 0.999938\n",
            "Train Epoch: 2 [10240/84843 (12%)]\tLoss: 1.065458\n",
            "Train Epoch: 2 [15360/84843 (18%)]\tLoss: 0.984264\n",
            "Train Epoch: 2 [20480/84843 (24%)]\tLoss: 0.964329\n",
            "Train Epoch: 2 [25600/84843 (30%)]\tLoss: 0.966693\n",
            "Train Epoch: 2 [30720/84843 (36%)]\tLoss: 0.852109\n",
            "Train Epoch: 2 [35840/84843 (42%)]\tLoss: 0.891180\n",
            "Train Epoch: 2 [40960/84843 (48%)]\tLoss: 1.033654\n",
            "Train Epoch: 2 [46080/84843 (54%)]\tLoss: 0.910875\n",
            "Train Epoch: 2 [51200/84843 (60%)]\tLoss: 0.944554\n",
            "Train Epoch: 2 [56320/84843 (66%)]\tLoss: 0.934787\n",
            "Train Epoch: 2 [61440/84843 (72%)]\tLoss: 1.001597\n",
            "Train Epoch: 2 [66560/84843 (78%)]\tLoss: 0.972477\n",
            "Train Epoch: 2 [71680/84843 (84%)]\tLoss: 0.899226\n",
            "Train Epoch: 2 [76800/84843 (90%)]\tLoss: 0.792187\n",
            "Train Epoch: 2 [81920/84843 (96%)]\tLoss: 0.798439\n",
            "\n",
            "Test Epoch: 2\tAccuracy: 7883/11005 (72%)\n",
            "\n",
            "\n"
          ],
          "name": "stdout"
        },
        {
          "output_type": "display_data",
          "data": {
            "image/png": "[encoded data removed]",
            "text/plain": [
              "<Figure size 432x288 with 1 Axes>"
            ]
          },
          "metadata": {
            "tags": [],
            "needs_background": "light"
          }
        }
      ]
    },
    {
      "cell_type": "code",
      "metadata": {
        "colab": {
          "base_uri": "https://localhost:8080/"
        },
        "id": "XWoMrntA99Wo",
        "outputId": "5e6fd54d-ff84-44b8-9dc9-e0c540690484"
      },
      "source": [
        "def predict(tensor):\n",
        "      # Use the model to predict the label of the waveform\n",
        "      tensor = tensor.to(device)\n",
        "      tensor = transform(tensor)\n",
        "      tensor = model(tensor.unsqueeze(0))\n",
        "      tensor = get_likely_index(tensor)\n",
        "      tensor = index_to_label(tensor.squeeze())\n",
        "      return tensor\n",
        "\n",
        "waveform, sample_rate, utterance, *_ = train_set[np.random.randint(len(train_set))]\n",
        "ipd.Audio(waveform.numpy(), rate=sample_rate)\n",
        "\n",
        "print(f\"Expected: {utterance}. Predicted: {predict(waveform)}.\")"
      ],
      "execution_count": 64,
      "outputs": [
        {
          "output_type": "stream",
          "text": [
            "Expected: wow. Predicted: wow.\n"
          ],
          "name": "stdout"
        }
      ]
    },
    {
      "cell_type": "code",
      "metadata": {
        "colab": {
          "base_uri": "https://localhost:8080/",
          "height": 126
        },
        "id": "m656gDOE-EL5",
        "outputId": "5b82d420-7ab4-49f5-f7e3-cf1fff8b5ae5"
      },
      "source": [
        "from google.colab import output as colab_output\n",
        "from base64 import b64decode\n",
        "from io import BytesIO\n",
        "from pydub import AudioSegment\n",
        "\n",
        "\n",
        "RECORD = \"\"\"\n",
        "const sleep  = time => new Promise(resolve => setTimeout(resolve, time))\n",
        "const b2text = blob => new Promise(resolve => {\n",
        "  const reader = new FileReader()\n",
        "  reader.onloadend = e => resolve(e.srcElement.result)\n",
        "  reader.readAsDataURL(blob)\n",
        "})\n",
        "var record = time => new Promise(async resolve => {\n",
        "  stream = await navigator.mediaDevices.getUserMedia({ audio: true })\n",
        "  recorder = new MediaRecorder(stream)\n",
        "  chunks = []\n",
        "  recorder.ondataavailable = e => chunks.push(e.data)\n",
        "  recorder.start()\n",
        "  await sleep(time)\n",
        "  recorder.onstop = async ()=>{\n",
        "    blob = new Blob(chunks)\n",
        "    text = await b2text(blob)\n",
        "    resolve(text)\n",
        "  }\n",
        "  recorder.stop()\n",
        "})\n",
        "\"\"\"\n",
        "\n",
        "\n",
        "def record(seconds=1):\n",
        "    display(ipd.Javascript(RECORD))\n",
        "    print(f\"Recording started for {seconds} seconds.\")\n",
        "    s = colab_output.eval_js(\"record(%d)\" % (seconds * 1000))\n",
        "    print(\"Recording ended.\")\n",
        "    b = b64decode(s.split(\",\")[1])\n",
        "\n",
        "    fileformat = \"wav\"\n",
        "    filename = f\"_audio.{fileformat}\"\n",
        "    AudioSegment.from_file(BytesIO(b)).export(filename, format=fileformat)\n",
        "    return torchaudio.load(filename)\n",
        "\n",
        "\n",
        "waveform, sample_rate = record()\n",
        "print(f\"Predicted: {predict(waveform)}.\")\n",
        "ipd.Audio(waveform.numpy(), rate=sample_rate)"
      ],
      "execution_count": 62,
      "outputs": [
        {
          "output_type": "display_data",
          "data": {
            "application/javascript": [
              "\n",
              "const sleep  = time => new Promise(resolve => setTimeout(resolve, time))\n",
              "const b2text = blob => new Promise(resolve => {\n",
              "  const reader = new FileReader()\n",
              "  reader.onloadend = e => resolve(e.srcElement.result)\n",
              "  reader.readAsDataURL(blob)\n",
              "})\n",
              "var record = time => new Promise(async resolve => {\n",
              "  stream = await navigator.mediaDevices.getUserMedia({ audio: true })\n",
              "  recorder = new MediaRecorder(stream)\n",
              "  chunks = []\n",
              "  recorder.ondataavailable = e => chunks.push(e.data)\n",
              "  recorder.start()\n",
              "  await sleep(time)\n",
              "  recorder.onstop = async ()=>{\n",
              "    blob = new Blob(chunks)\n",
              "    text = await b2text(blob)\n",
              "    resolve(text)\n",
              "  }\n",
              "  recorder.stop()\n",
              "})\n"
            ],
            "text/plain": [
              "<IPython.core.display.Javascript object>"
            ]
          },
          "metadata": {
            "tags": []
          }
        },
        {
          "output_type": "stream",
          "text": [
            "Recording started for 1 seconds.\n",
            "Recording ended.\n",
            "Predicted: two.\n"
          ],
          "name": "stdout"
        },
        {
          "output_type": "execute_result",
          "data": {
            "text/html": [
              "\n",
              "                <audio controls=\"controls\" >\n",
              "                    <source src=\"data:audio/wav;base64,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\" type=\"audio/wav\" />\n",
              "                    Your browser does not support the audio element.\n",
              "                </audio>\n",
              "              "
            ],
            "text/plain": [
              "<IPython.lib.display.Audio object>"
            ]
          },
          "metadata": {
            "tags": []
          },
          "execution_count": 62
        }
      ]
    },
    {
      "cell_type": "code",
      "metadata": {
        "id": "Z4eZERgp-Gqx"
      },
      "source": [
        ""
      ],
      "execution_count": null,
      "outputs": []
    }
  ]
}