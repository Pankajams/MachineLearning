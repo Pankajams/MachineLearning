{
  "nbformat": 4,
  "nbformat_minor": 0,
  "metadata": {
    "colab": {
      "name": "NLP.ipynb",
      "provenance": []
    },
    "kernelspec": {
      "display_name": "Python 3",
      "name": "python3"
    },
    "language_info": {
      "name": "python"
    },
    "accelerator": "GPU",
    "widgets": {
      "application/vnd.jupyter.widget-state+json": {
        "cb9c6bc47101458294a1eecfbae1715d": {
          "model_module": "@jupyter-widgets/controls",
          "model_name": "HBoxModel",
          "state": {
            "_view_name": "HBoxView",
            "_dom_classes": [],
            "_model_name": "HBoxModel",
            "_view_module": "@jupyter-widgets/controls",
            "_model_module_version": "1.5.0",
            "_view_count": null,
            "_view_module_version": "1.5.0",
            "box_style": "",
            "layout": "IPY_MODEL_844fdd29539144d7b13d1355386917d4",
            "_model_module": "@jupyter-widgets/controls",
            "children": [
              "IPY_MODEL_a6ca9a9f15d64aed93aa9341b6685319",
              "IPY_MODEL_54bc5eb2754d471f8118255f0512da7c"
            ]
          }
        },
        "844fdd29539144d7b13d1355386917d4": {
          "model_module": "@jupyter-widgets/base",
          "model_name": "LayoutModel",
          "state": {
            "_view_name": "LayoutView",
            "grid_template_rows": null,
            "right": null,
            "justify_content": null,
            "_view_module": "@jupyter-widgets/base",
            "overflow": null,
            "_model_module_version": "1.2.0",
            "_view_count": null,
            "flex_flow": null,
            "width": null,
            "min_width": null,
            "border": null,
            "align_items": null,
            "bottom": null,
            "_model_module": "@jupyter-widgets/base",
            "top": null,
            "grid_column": null,
            "overflow_y": null,
            "overflow_x": null,
            "grid_auto_flow": null,
            "grid_area": null,
            "grid_template_columns": null,
            "flex": null,
            "_model_name": "LayoutModel",
            "justify_items": null,
            "grid_row": null,
            "max_height": null,
            "align_content": null,
            "visibility": null,
            "align_self": null,
            "height": null,
            "min_height": null,
            "padding": null,
            "grid_auto_rows": null,
            "grid_gap": null,
            "max_width": null,
            "order": null,
            "_view_module_version": "1.2.0",
            "grid_template_areas": null,
            "object_position": null,
            "object_fit": null,
            "grid_auto_columns": null,
            "margin": null,
            "display": null,
            "left": null
          }
        },
        "a6ca9a9f15d64aed93aa9341b6685319": {
          "model_module": "@jupyter-widgets/controls",
          "model_name": "FloatProgressModel",
          "state": {
            "_view_name": "ProgressView",
            "style": "IPY_MODEL_2e2ea23f172e4794b875c7edcd253171",
            "_dom_classes": [],
            "description": "100%",
            "_model_name": "FloatProgressModel",
            "bar_style": "success",
            "max": 3000,
            "_view_module": "@jupyter-widgets/controls",
            "_model_module_version": "1.5.0",
            "value": 3000,
            "_view_count": null,
            "_view_module_version": "1.5.0",
            "orientation": "horizontal",
            "min": 0,
            "description_tooltip": null,
            "_model_module": "@jupyter-widgets/controls",
            "layout": "IPY_MODEL_db7c33910333407a8a53e40749ae4ef8"
          }
        },
        "54bc5eb2754d471f8118255f0512da7c": {
          "model_module": "@jupyter-widgets/controls",
          "model_name": "HTMLModel",
          "state": {
            "_view_name": "HTMLView",
            "style": "IPY_MODEL_6eef326d1227486495ad557ca3deed8b",
            "_dom_classes": [],
            "description": "",
            "_model_name": "HTMLModel",
            "placeholder": "​",
            "_view_module": "@jupyter-widgets/controls",
            "_model_module_version": "1.5.0",
            "value": " 3000/3000 [00:00&lt;00:00, 32420.16it/s]",
            "_view_count": null,
            "_view_module_version": "1.5.0",
            "description_tooltip": null,
            "_model_module": "@jupyter-widgets/controls",
            "layout": "IPY_MODEL_0df0f8ef4e1f4e8bb5abab0bf5a442fd"
          }
        },
        "2e2ea23f172e4794b875c7edcd253171": {
          "model_module": "@jupyter-widgets/controls",
          "model_name": "ProgressStyleModel",
          "state": {
            "_view_name": "StyleView",
            "_model_name": "ProgressStyleModel",
            "description_width": "initial",
            "_view_module": "@jupyter-widgets/base",
            "_model_module_version": "1.5.0",
            "_view_count": null,
            "_view_module_version": "1.2.0",
            "bar_color": null,
            "_model_module": "@jupyter-widgets/controls"
          }
        },
        "db7c33910333407a8a53e40749ae4ef8": {
          "model_module": "@jupyter-widgets/base",
          "model_name": "LayoutModel",
          "state": {
            "_view_name": "LayoutView",
            "grid_template_rows": null,
            "right": null,
            "justify_content": null,
            "_view_module": "@jupyter-widgets/base",
            "overflow": null,
            "_model_module_version": "1.2.0",
            "_view_count": null,
            "flex_flow": null,
            "width": null,
            "min_width": null,
            "border": null,
            "align_items": null,
            "bottom": null,
            "_model_module": "@jupyter-widgets/base",
            "top": null,
            "grid_column": null,
            "overflow_y": null,
            "overflow_x": null,
            "grid_auto_flow": null,
            "grid_area": null,
            "grid_template_columns": null,
            "flex": null,
            "_model_name": "LayoutModel",
            "justify_items": null,
            "grid_row": null,
            "max_height": null,
            "align_content": null,
            "visibility": null,
            "align_self": null,
            "height": null,
            "min_height": null,
            "padding": null,
            "grid_auto_rows": null,
            "grid_gap": null,
            "max_width": null,
            "order": null,
            "_view_module_version": "1.2.0",
            "grid_template_areas": null,
            "object_position": null,
            "object_fit": null,
            "grid_auto_columns": null,
            "margin": null,
            "display": null,
            "left": null
          }
        },
        "6eef326d1227486495ad557ca3deed8b": {
          "model_module": "@jupyter-widgets/controls",
          "model_name": "DescriptionStyleModel",
          "state": {
            "_view_name": "StyleView",
            "_model_name": "DescriptionStyleModel",
            "description_width": "",
            "_view_module": "@jupyter-widgets/base",
            "_model_module_version": "1.5.0",
            "_view_count": null,
            "_view_module_version": "1.2.0",
            "_model_module": "@jupyter-widgets/controls"
          }
        },
        "0df0f8ef4e1f4e8bb5abab0bf5a442fd": {
          "model_module": "@jupyter-widgets/base",
          "model_name": "LayoutModel",
          "state": {
            "_view_name": "LayoutView",
            "grid_template_rows": null,
            "right": null,
            "justify_content": null,
            "_view_module": "@jupyter-widgets/base",
            "overflow": null,
            "_model_module_version": "1.2.0",
            "_view_count": null,
            "flex_flow": null,
            "width": null,
            "min_width": null,
            "border": null,
            "align_items": null,
            "bottom": null,
            "_model_module": "@jupyter-widgets/base",
            "top": null,
            "grid_column": null,
            "overflow_y": null,
            "overflow_x": null,
            "grid_auto_flow": null,
            "grid_area": null,
            "grid_template_columns": null,
            "flex": null,
            "_model_name": "LayoutModel",
            "justify_items": null,
            "grid_row": null,
            "max_height": null,
            "align_content": null,
            "visibility": null,
            "align_self": null,
            "height": null,
            "min_height": null,
            "padding": null,
            "grid_auto_rows": null,
            "grid_gap": null,
            "max_width": null,
            "order": null,
            "_view_module_version": "1.2.0",
            "grid_template_areas": null,
            "object_position": null,
            "object_fit": null,
            "grid_auto_columns": null,
            "margin": null,
            "display": null,
            "left": null
          }
        },
        "5775924a2ee64860ab0f5c610dbd6a88": {
          "model_module": "@jupyter-widgets/controls",
          "model_name": "HBoxModel",
          "state": {
            "_view_name": "HBoxView",
            "_dom_classes": [],
            "_model_name": "HBoxModel",
            "_view_module": "@jupyter-widgets/controls",
            "_model_module_version": "1.5.0",
            "_view_count": null,
            "_view_module_version": "1.5.0",
            "box_style": "",
            "layout": "IPY_MODEL_d719a5991eae435ba40f8a80c4afcba0",
            "_model_module": "@jupyter-widgets/controls",
            "children": [
              "IPY_MODEL_17bc8169787d4da6ba79c14377608397",
              "IPY_MODEL_fa80c37ca42544b5b09dd0df5eb3a81b"
            ]
          }
        },
        "d719a5991eae435ba40f8a80c4afcba0": {
          "model_module": "@jupyter-widgets/base",
          "model_name": "LayoutModel",
          "state": {
            "_view_name": "LayoutView",
            "grid_template_rows": null,
            "right": null,
            "justify_content": null,
            "_view_module": "@jupyter-widgets/base",
            "overflow": null,
            "_model_module_version": "1.2.0",
            "_view_count": null,
            "flex_flow": null,
            "width": null,
            "min_width": null,
            "border": null,
            "align_items": null,
            "bottom": null,
            "_model_module": "@jupyter-widgets/base",
            "top": null,
            "grid_column": null,
            "overflow_y": null,
            "overflow_x": null,
            "grid_auto_flow": null,
            "grid_area": null,
            "grid_template_columns": null,
            "flex": null,
            "_model_name": "LayoutModel",
            "justify_items": null,
            "grid_row": null,
            "max_height": null,
            "align_content": null,
            "visibility": null,
            "align_self": null,
            "height": null,
            "min_height": null,
            "padding": null,
            "grid_auto_rows": null,
            "grid_gap": null,
            "max_width": null,
            "order": null,
            "_view_module_version": "1.2.0",
            "grid_template_areas": null,
            "object_position": null,
            "object_fit": null,
            "grid_auto_columns": null,
            "margin": null,
            "display": null,
            "left": null
          }
        },
        "17bc8169787d4da6ba79c14377608397": {
          "model_module": "@jupyter-widgets/controls",
          "model_name": "FloatProgressModel",
          "state": {
            "_view_name": "ProgressView",
            "style": "IPY_MODEL_79979004680d4d73b576fd5a3a16bf91",
            "_dom_classes": [],
            "description": "100%",
            "_model_name": "FloatProgressModel",
            "bar_style": "success",
            "max": 3000,
            "_view_module": "@jupyter-widgets/controls",
            "_model_module_version": "1.5.0",
            "value": 3000,
            "_view_count": null,
            "_view_module_version": "1.5.0",
            "orientation": "horizontal",
            "min": 0,
            "description_tooltip": null,
            "_model_module": "@jupyter-widgets/controls",
            "layout": "IPY_MODEL_3de7738a62f34ea3a101e3a479c88016"
          }
        },
        "fa80c37ca42544b5b09dd0df5eb3a81b": {
          "model_module": "@jupyter-widgets/controls",
          "model_name": "HTMLModel",
          "state": {
            "_view_name": "HTMLView",
            "style": "IPY_MODEL_3c67b3fbdfa2409ea36e25860d2151ff",
            "_dom_classes": [],
            "description": "",
            "_model_name": "HTMLModel",
            "placeholder": "​",
            "_view_module": "@jupyter-widgets/controls",
            "_model_module_version": "1.5.0",
            "value": " 3000/3000 [00:00&lt;00:00, 16184.29it/s]",
            "_view_count": null,
            "_view_module_version": "1.5.0",
            "description_tooltip": null,
            "_model_module": "@jupyter-widgets/controls",
            "layout": "IPY_MODEL_3c22940fe8474e3c9d75cfb7ee0b2f15"
          }
        },
        "79979004680d4d73b576fd5a3a16bf91": {
          "model_module": "@jupyter-widgets/controls",
          "model_name": "ProgressStyleModel",
          "state": {
            "_view_name": "StyleView",
            "_model_name": "ProgressStyleModel",
            "description_width": "initial",
            "_view_module": "@jupyter-widgets/base",
            "_model_module_version": "1.5.0",
            "_view_count": null,
            "_view_module_version": "1.2.0",
            "bar_color": null,
            "_model_module": "@jupyter-widgets/controls"
          }
        },
        "3de7738a62f34ea3a101e3a479c88016": {
          "model_module": "@jupyter-widgets/base",
          "model_name": "LayoutModel",
          "state": {
            "_view_name": "LayoutView",
            "grid_template_rows": null,
            "right": null,
            "justify_content": null,
            "_view_module": "@jupyter-widgets/base",
            "overflow": null,
            "_model_module_version": "1.2.0",
            "_view_count": null,
            "flex_flow": null,
            "width": null,
            "min_width": null,
            "border": null,
            "align_items": null,
            "bottom": null,
            "_model_module": "@jupyter-widgets/base",
            "top": null,
            "grid_column": null,
            "overflow_y": null,
            "overflow_x": null,
            "grid_auto_flow": null,
            "grid_area": null,
            "grid_template_columns": null,
            "flex": null,
            "_model_name": "LayoutModel",
            "justify_items": null,
            "grid_row": null,
            "max_height": null,
            "align_content": null,
            "visibility": null,
            "align_self": null,
            "height": null,
            "min_height": null,
            "padding": null,
            "grid_auto_rows": null,
            "grid_gap": null,
            "max_width": null,
            "order": null,
            "_view_module_version": "1.2.0",
            "grid_template_areas": null,
            "object_position": null,
            "object_fit": null,
            "grid_auto_columns": null,
            "margin": null,
            "display": null,
            "left": null
          }
        },
        "3c67b3fbdfa2409ea36e25860d2151ff": {
          "model_module": "@jupyter-widgets/controls",
          "model_name": "DescriptionStyleModel",
          "state": {
            "_view_name": "StyleView",
            "_model_name": "DescriptionStyleModel",
            "description_width": "",
            "_view_module": "@jupyter-widgets/base",
            "_model_module_version": "1.5.0",
            "_view_count": null,
            "_view_module_version": "1.2.0",
            "_model_module": "@jupyter-widgets/controls"
          }
        },
        "3c22940fe8474e3c9d75cfb7ee0b2f15": {
          "model_module": "@jupyter-widgets/base",
          "model_name": "LayoutModel",
          "state": {
            "_view_name": "LayoutView",
            "grid_template_rows": null,
            "right": null,
            "justify_content": null,
            "_view_module": "@jupyter-widgets/base",
            "overflow": null,
            "_model_module_version": "1.2.0",
            "_view_count": null,
            "flex_flow": null,
            "width": null,
            "min_width": null,
            "border": null,
            "align_items": null,
            "bottom": null,
            "_model_module": "@jupyter-widgets/base",
            "top": null,
            "grid_column": null,
            "overflow_y": null,
            "overflow_x": null,
            "grid_auto_flow": null,
            "grid_area": null,
            "grid_template_columns": null,
            "flex": null,
            "_model_name": "LayoutModel",
            "justify_items": null,
            "grid_row": null,
            "max_height": null,
            "align_content": null,
            "visibility": null,
            "align_self": null,
            "height": null,
            "min_height": null,
            "padding": null,
            "grid_auto_rows": null,
            "grid_gap": null,
            "max_width": null,
            "order": null,
            "_view_module_version": "1.2.0",
            "grid_template_areas": null,
            "object_position": null,
            "object_fit": null,
            "grid_auto_columns": null,
            "margin": null,
            "display": null,
            "left": null
          }
        },
        "dad3288422a74af0a8a6c73b30ee37cf": {
          "model_module": "@jupyter-widgets/controls",
          "model_name": "HBoxModel",
          "state": {
            "_view_name": "HBoxView",
            "_dom_classes": [],
            "_model_name": "HBoxModel",
            "_view_module": "@jupyter-widgets/controls",
            "_model_module_version": "1.5.0",
            "_view_count": null,
            "_view_module_version": "1.5.0",
            "box_style": "",
            "layout": "IPY_MODEL_051af61960bf484086b3ff5a0e29bd86",
            "_model_module": "@jupyter-widgets/controls",
            "children": [
              "IPY_MODEL_22dd3afbc8644e1da8a4ccf444801a06",
              "IPY_MODEL_3f9e00bbab6744a3a493a96ed3fbae5c"
            ]
          }
        },
        "051af61960bf484086b3ff5a0e29bd86": {
          "model_module": "@jupyter-widgets/base",
          "model_name": "LayoutModel",
          "state": {
            "_view_name": "LayoutView",
            "grid_template_rows": null,
            "right": null,
            "justify_content": null,
            "_view_module": "@jupyter-widgets/base",
            "overflow": null,
            "_model_module_version": "1.2.0",
            "_view_count": null,
            "flex_flow": null,
            "width": null,
            "min_width": null,
            "border": null,
            "align_items": null,
            "bottom": null,
            "_model_module": "@jupyter-widgets/base",
            "top": null,
            "grid_column": null,
            "overflow_y": null,
            "overflow_x": null,
            "grid_auto_flow": null,
            "grid_area": null,
            "grid_template_columns": null,
            "flex": null,
            "_model_name": "LayoutModel",
            "justify_items": null,
            "grid_row": null,
            "max_height": null,
            "align_content": null,
            "visibility": null,
            "align_self": null,
            "height": null,
            "min_height": null,
            "padding": null,
            "grid_auto_rows": null,
            "grid_gap": null,
            "max_width": null,
            "order": null,
            "_view_module_version": "1.2.0",
            "grid_template_areas": null,
            "object_position": null,
            "object_fit": null,
            "grid_auto_columns": null,
            "margin": null,
            "display": null,
            "left": null
          }
        },
        "22dd3afbc8644e1da8a4ccf444801a06": {
          "model_module": "@jupyter-widgets/controls",
          "model_name": "FloatProgressModel",
          "state": {
            "_view_name": "ProgressView",
            "style": "IPY_MODEL_3eb590d1d52d46bdb16ee82ca8501bbd",
            "_dom_classes": [],
            "description": "",
            "_model_name": "FloatProgressModel",
            "bar_style": "success",
            "max": 1,
            "_view_module": "@jupyter-widgets/controls",
            "_model_module_version": "1.5.0",
            "value": 1,
            "_view_count": null,
            "_view_module_version": "1.5.0",
            "orientation": "horizontal",
            "min": 0,
            "description_tooltip": null,
            "_model_module": "@jupyter-widgets/controls",
            "layout": "IPY_MODEL_563051e3f49e4e96afdfabb704c19c40"
          }
        },
        "3f9e00bbab6744a3a493a96ed3fbae5c": {
          "model_module": "@jupyter-widgets/controls",
          "model_name": "HTMLModel",
          "state": {
            "_view_name": "HTMLView",
            "style": "IPY_MODEL_9ac47b522e6a4d2e8806053f4203c3ef",
            "_dom_classes": [],
            "description": "",
            "_model_name": "HTMLModel",
            "placeholder": "​",
            "_view_module": "@jupyter-widgets/controls",
            "_model_module_version": "1.5.0",
            "value": " 2100/? [00:04&lt;00:00, 517.78it/s]",
            "_view_count": null,
            "_view_module_version": "1.5.0",
            "description_tooltip": null,
            "_model_module": "@jupyter-widgets/controls",
            "layout": "IPY_MODEL_240eced65bdb45468c8bb6e65033eea0"
          }
        },
        "3eb590d1d52d46bdb16ee82ca8501bbd": {
          "model_module": "@jupyter-widgets/controls",
          "model_name": "ProgressStyleModel",
          "state": {
            "_view_name": "StyleView",
            "_model_name": "ProgressStyleModel",
            "description_width": "initial",
            "_view_module": "@jupyter-widgets/base",
            "_model_module_version": "1.5.0",
            "_view_count": null,
            "_view_module_version": "1.2.0",
            "bar_color": null,
            "_model_module": "@jupyter-widgets/controls"
          }
        },
        "563051e3f49e4e96afdfabb704c19c40": {
          "model_module": "@jupyter-widgets/base",
          "model_name": "LayoutModel",
          "state": {
            "_view_name": "LayoutView",
            "grid_template_rows": null,
            "right": null,
            "justify_content": null,
            "_view_module": "@jupyter-widgets/base",
            "overflow": null,
            "_model_module_version": "1.2.0",
            "_view_count": null,
            "flex_flow": null,
            "width": null,
            "min_width": null,
            "border": null,
            "align_items": null,
            "bottom": null,
            "_model_module": "@jupyter-widgets/base",
            "top": null,
            "grid_column": null,
            "overflow_y": null,
            "overflow_x": null,
            "grid_auto_flow": null,
            "grid_area": null,
            "grid_template_columns": null,
            "flex": null,
            "_model_name": "LayoutModel",
            "justify_items": null,
            "grid_row": null,
            "max_height": null,
            "align_content": null,
            "visibility": null,
            "align_self": null,
            "height": null,
            "min_height": null,
            "padding": null,
            "grid_auto_rows": null,
            "grid_gap": null,
            "max_width": null,
            "order": null,
            "_view_module_version": "1.2.0",
            "grid_template_areas": null,
            "object_position": null,
            "object_fit": null,
            "grid_auto_columns": null,
            "margin": null,
            "display": null,
            "left": null
          }
        },
        "9ac47b522e6a4d2e8806053f4203c3ef": {
          "model_module": "@jupyter-widgets/controls",
          "model_name": "DescriptionStyleModel",
          "state": {
            "_view_name": "StyleView",
            "_model_name": "DescriptionStyleModel",
            "description_width": "",
            "_view_module": "@jupyter-widgets/base",
            "_model_module_version": "1.5.0",
            "_view_count": null,
            "_view_module_version": "1.2.0",
            "_model_module": "@jupyter-widgets/controls"
          }
        },
        "240eced65bdb45468c8bb6e65033eea0": {
          "model_module": "@jupyter-widgets/base",
          "model_name": "LayoutModel",
          "state": {
            "_view_name": "LayoutView",
            "grid_template_rows": null,
            "right": null,
            "justify_content": null,
            "_view_module": "@jupyter-widgets/base",
            "overflow": null,
            "_model_module_version": "1.2.0",
            "_view_count": null,
            "flex_flow": null,
            "width": null,
            "min_width": null,
            "border": null,
            "align_items": null,
            "bottom": null,
            "_model_module": "@jupyter-widgets/base",
            "top": null,
            "grid_column": null,
            "overflow_y": null,
            "overflow_x": null,
            "grid_auto_flow": null,
            "grid_area": null,
            "grid_template_columns": null,
            "flex": null,
            "_model_name": "LayoutModel",
            "justify_items": null,
            "grid_row": null,
            "max_height": null,
            "align_content": null,
            "visibility": null,
            "align_self": null,
            "height": null,
            "min_height": null,
            "padding": null,
            "grid_auto_rows": null,
            "grid_gap": null,
            "max_width": null,
            "order": null,
            "_view_module_version": "1.2.0",
            "grid_template_areas": null,
            "object_position": null,
            "object_fit": null,
            "grid_auto_columns": null,
            "margin": null,
            "display": null,
            "left": null
          }
        },
        "9bf5e5b65c6648a4917f10359de56caa": {
          "model_module": "@jupyter-widgets/controls",
          "model_name": "HBoxModel",
          "state": {
            "_view_name": "HBoxView",
            "_dom_classes": [],
            "_model_name": "HBoxModel",
            "_view_module": "@jupyter-widgets/controls",
            "_model_module_version": "1.5.0",
            "_view_count": null,
            "_view_module_version": "1.5.0",
            "box_style": "",
            "layout": "IPY_MODEL_2b8355d8e9b744da9f645a6f05584ef5",
            "_model_module": "@jupyter-widgets/controls",
            "children": [
              "IPY_MODEL_6398d00bf146407aaea49a635cd6c660",
              "IPY_MODEL_672b94eb3633481cab901fe5b0682847"
            ]
          }
        },
        "2b8355d8e9b744da9f645a6f05584ef5": {
          "model_module": "@jupyter-widgets/base",
          "model_name": "LayoutModel",
          "state": {
            "_view_name": "LayoutView",
            "grid_template_rows": null,
            "right": null,
            "justify_content": null,
            "_view_module": "@jupyter-widgets/base",
            "overflow": null,
            "_model_module_version": "1.2.0",
            "_view_count": null,
            "flex_flow": null,
            "width": null,
            "min_width": null,
            "border": null,
            "align_items": null,
            "bottom": null,
            "_model_module": "@jupyter-widgets/base",
            "top": null,
            "grid_column": null,
            "overflow_y": null,
            "overflow_x": null,
            "grid_auto_flow": null,
            "grid_area": null,
            "grid_template_columns": null,
            "flex": null,
            "_model_name": "LayoutModel",
            "justify_items": null,
            "grid_row": null,
            "max_height": null,
            "align_content": null,
            "visibility": null,
            "align_self": null,
            "height": null,
            "min_height": null,
            "padding": null,
            "grid_auto_rows": null,
            "grid_gap": null,
            "max_width": null,
            "order": null,
            "_view_module_version": "1.2.0",
            "grid_template_areas": null,
            "object_position": null,
            "object_fit": null,
            "grid_auto_columns": null,
            "margin": null,
            "display": null,
            "left": null
          }
        },
        "6398d00bf146407aaea49a635cd6c660": {
          "model_module": "@jupyter-widgets/controls",
          "model_name": "FloatProgressModel",
          "state": {
            "_view_name": "ProgressView",
            "style": "IPY_MODEL_24d8661e361c453da0ecdc895473db93",
            "_dom_classes": [],
            "description": "",
            "_model_name": "FloatProgressModel",
            "bar_style": "success",
            "max": 1,
            "_view_module": "@jupyter-widgets/controls",
            "_model_module_version": "1.5.0",
            "value": 1,
            "_view_count": null,
            "_view_module_version": "1.5.0",
            "orientation": "horizontal",
            "min": 0,
            "description_tooltip": null,
            "_model_module": "@jupyter-widgets/controls",
            "layout": "IPY_MODEL_c9aabf46d45c4423a8175ad46cd14e17"
          }
        },
        "672b94eb3633481cab901fe5b0682847": {
          "model_module": "@jupyter-widgets/controls",
          "model_name": "HTMLModel",
          "state": {
            "_view_name": "HTMLView",
            "style": "IPY_MODEL_ab5e6c62e68746f69a258da6350900b5",
            "_dom_classes": [],
            "description": "",
            "_model_name": "HTMLModel",
            "placeholder": "​",
            "_view_module": "@jupyter-widgets/controls",
            "_model_module_version": "1.5.0",
            "value": " 900/? [00:03&lt;00:00, 261.37it/s]",
            "_view_count": null,
            "_view_module_version": "1.5.0",
            "description_tooltip": null,
            "_model_module": "@jupyter-widgets/controls",
            "layout": "IPY_MODEL_e875a6acf45e4e8bbe299bd5e84ffc1f"
          }
        },
        "24d8661e361c453da0ecdc895473db93": {
          "model_module": "@jupyter-widgets/controls",
          "model_name": "ProgressStyleModel",
          "state": {
            "_view_name": "StyleView",
            "_model_name": "ProgressStyleModel",
            "description_width": "initial",
            "_view_module": "@jupyter-widgets/base",
            "_model_module_version": "1.5.0",
            "_view_count": null,
            "_view_module_version": "1.2.0",
            "bar_color": null,
            "_model_module": "@jupyter-widgets/controls"
          }
        },
        "c9aabf46d45c4423a8175ad46cd14e17": {
          "model_module": "@jupyter-widgets/base",
          "model_name": "LayoutModel",
          "state": {
            "_view_name": "LayoutView",
            "grid_template_rows": null,
            "right": null,
            "justify_content": null,
            "_view_module": "@jupyter-widgets/base",
            "overflow": null,
            "_model_module_version": "1.2.0",
            "_view_count": null,
            "flex_flow": null,
            "width": null,
            "min_width": null,
            "border": null,
            "align_items": null,
            "bottom": null,
            "_model_module": "@jupyter-widgets/base",
            "top": null,
            "grid_column": null,
            "overflow_y": null,
            "overflow_x": null,
            "grid_auto_flow": null,
            "grid_area": null,
            "grid_template_columns": null,
            "flex": null,
            "_model_name": "LayoutModel",
            "justify_items": null,
            "grid_row": null,
            "max_height": null,
            "align_content": null,
            "visibility": null,
            "align_self": null,
            "height": null,
            "min_height": null,
            "padding": null,
            "grid_auto_rows": null,
            "grid_gap": null,
            "max_width": null,
            "order": null,
            "_view_module_version": "1.2.0",
            "grid_template_areas": null,
            "object_position": null,
            "object_fit": null,
            "grid_auto_columns": null,
            "margin": null,
            "display": null,
            "left": null
          }
        },
        "ab5e6c62e68746f69a258da6350900b5": {
          "model_module": "@jupyter-widgets/controls",
          "model_name": "DescriptionStyleModel",
          "state": {
            "_view_name": "StyleView",
            "_model_name": "DescriptionStyleModel",
            "description_width": "",
            "_view_module": "@jupyter-widgets/base",
            "_model_module_version": "1.5.0",
            "_view_count": null,
            "_view_module_version": "1.2.0",
            "_model_module": "@jupyter-widgets/controls"
          }
        },
        "e875a6acf45e4e8bbe299bd5e84ffc1f": {
          "model_module": "@jupyter-widgets/base",
          "model_name": "LayoutModel",
          "state": {
            "_view_name": "LayoutView",
            "grid_template_rows": null,
            "right": null,
            "justify_content": null,
            "_view_module": "@jupyter-widgets/base",
            "overflow": null,
            "_model_module_version": "1.2.0",
            "_view_count": null,
            "flex_flow": null,
            "width": null,
            "min_width": null,
            "border": null,
            "align_items": null,
            "bottom": null,
            "_model_module": "@jupyter-widgets/base",
            "top": null,
            "grid_column": null,
            "overflow_y": null,
            "overflow_x": null,
            "grid_auto_flow": null,
            "grid_area": null,
            "grid_template_columns": null,
            "flex": null,
            "_model_name": "LayoutModel",
            "justify_items": null,
            "grid_row": null,
            "max_height": null,
            "align_content": null,
            "visibility": null,
            "align_self": null,
            "height": null,
            "min_height": null,
            "padding": null,
            "grid_auto_rows": null,
            "grid_gap": null,
            "max_width": null,
            "order": null,
            "_view_module_version": "1.2.0",
            "grid_template_areas": null,
            "object_position": null,
            "object_fit": null,
            "grid_auto_columns": null,
            "margin": null,
            "display": null,
            "left": null
          }
        },
        "48835d25df7c4f66ac286de4136cc93a": {
          "model_module": "@jupyter-widgets/controls",
          "model_name": "HBoxModel",
          "state": {
            "_view_name": "HBoxView",
            "_dom_classes": [],
            "_model_name": "HBoxModel",
            "_view_module": "@jupyter-widgets/controls",
            "_model_module_version": "1.5.0",
            "_view_count": null,
            "_view_module_version": "1.5.0",
            "box_style": "",
            "layout": "IPY_MODEL_091bd65fc129476f9904dc96b751318d",
            "_model_module": "@jupyter-widgets/controls",
            "children": [
              "IPY_MODEL_ec9f4f7a6e7b4143a6b28e715700c394",
              "IPY_MODEL_6218dc7ce1a647fcba7c9081ad78d765"
            ]
          }
        },
        "091bd65fc129476f9904dc96b751318d": {
          "model_module": "@jupyter-widgets/base",
          "model_name": "LayoutModel",
          "state": {
            "_view_name": "LayoutView",
            "grid_template_rows": null,
            "right": null,
            "justify_content": null,
            "_view_module": "@jupyter-widgets/base",
            "overflow": null,
            "_model_module_version": "1.2.0",
            "_view_count": null,
            "flex_flow": null,
            "width": null,
            "min_width": null,
            "border": null,
            "align_items": null,
            "bottom": null,
            "_model_module": "@jupyter-widgets/base",
            "top": null,
            "grid_column": null,
            "overflow_y": null,
            "overflow_x": null,
            "grid_auto_flow": null,
            "grid_area": null,
            "grid_template_columns": null,
            "flex": null,
            "_model_name": "LayoutModel",
            "justify_items": null,
            "grid_row": null,
            "max_height": null,
            "align_content": null,
            "visibility": null,
            "align_self": null,
            "height": null,
            "min_height": null,
            "padding": null,
            "grid_auto_rows": null,
            "grid_gap": null,
            "max_width": null,
            "order": null,
            "_view_module_version": "1.2.0",
            "grid_template_areas": null,
            "object_position": null,
            "object_fit": null,
            "grid_auto_columns": null,
            "margin": null,
            "display": null,
            "left": null
          }
        },
        "ec9f4f7a6e7b4143a6b28e715700c394": {
          "model_module": "@jupyter-widgets/controls",
          "model_name": "FloatProgressModel",
          "state": {
            "_view_name": "ProgressView",
            "style": "IPY_MODEL_c55bfca85ae1410d828a0a262c19117d",
            "_dom_classes": [],
            "description": "100%",
            "_model_name": "FloatProgressModel",
            "bar_style": "success",
            "max": 49,
            "_view_module": "@jupyter-widgets/controls",
            "_model_module_version": "1.5.0",
            "value": 49,
            "_view_count": null,
            "_view_module_version": "1.5.0",
            "orientation": "horizontal",
            "min": 0,
            "description_tooltip": null,
            "_model_module": "@jupyter-widgets/controls",
            "layout": "IPY_MODEL_afdf20e778024b7cb8e442a7d96b6339"
          }
        },
        "6218dc7ce1a647fcba7c9081ad78d765": {
          "model_module": "@jupyter-widgets/controls",
          "model_name": "HTMLModel",
          "state": {
            "_view_name": "HTMLView",
            "style": "IPY_MODEL_4fe2d3ff215646e187901513c4079ea7",
            "_dom_classes": [],
            "description": "",
            "_model_name": "HTMLModel",
            "placeholder": "​",
            "_view_module": "@jupyter-widgets/controls",
            "_model_module_version": "1.5.0",
            "value": " 49/49 [00:02&lt;00:00, 18.27it/s]",
            "_view_count": null,
            "_view_module_version": "1.5.0",
            "description_tooltip": null,
            "_model_module": "@jupyter-widgets/controls",
            "layout": "IPY_MODEL_396930bd8fab4be09ef59121086a6517"
          }
        },
        "c55bfca85ae1410d828a0a262c19117d": {
          "model_module": "@jupyter-widgets/controls",
          "model_name": "ProgressStyleModel",
          "state": {
            "_view_name": "StyleView",
            "_model_name": "ProgressStyleModel",
            "description_width": "initial",
            "_view_module": "@jupyter-widgets/base",
            "_model_module_version": "1.5.0",
            "_view_count": null,
            "_view_module_version": "1.2.0",
            "bar_color": null,
            "_model_module": "@jupyter-widgets/controls"
          }
        },
        "afdf20e778024b7cb8e442a7d96b6339": {
          "model_module": "@jupyter-widgets/base",
          "model_name": "LayoutModel",
          "state": {
            "_view_name": "LayoutView",
            "grid_template_rows": null,
            "right": null,
            "justify_content": null,
            "_view_module": "@jupyter-widgets/base",
            "overflow": null,
            "_model_module_version": "1.2.0",
            "_view_count": null,
            "flex_flow": null,
            "width": null,
            "min_width": null,
            "border": null,
            "align_items": null,
            "bottom": null,
            "_model_module": "@jupyter-widgets/base",
            "top": null,
            "grid_column": null,
            "overflow_y": null,
            "overflow_x": null,
            "grid_auto_flow": null,
            "grid_area": null,
            "grid_template_columns": null,
            "flex": null,
            "_model_name": "LayoutModel",
            "justify_items": null,
            "grid_row": null,
            "max_height": null,
            "align_content": null,
            "visibility": null,
            "align_self": null,
            "height": null,
            "min_height": null,
            "padding": null,
            "grid_auto_rows": null,
            "grid_gap": null,
            "max_width": null,
            "order": null,
            "_view_module_version": "1.2.0",
            "grid_template_areas": null,
            "object_position": null,
            "object_fit": null,
            "grid_auto_columns": null,
            "margin": null,
            "display": null,
            "left": null
          }
        },
        "4fe2d3ff215646e187901513c4079ea7": {
          "model_module": "@jupyter-widgets/controls",
          "model_name": "DescriptionStyleModel",
          "state": {
            "_view_name": "StyleView",
            "_model_name": "DescriptionStyleModel",
            "description_width": "",
            "_view_module": "@jupyter-widgets/base",
            "_model_module_version": "1.5.0",
            "_view_count": null,
            "_view_module_version": "1.2.0",
            "_model_module": "@jupyter-widgets/controls"
          }
        },
        "396930bd8fab4be09ef59121086a6517": {
          "model_module": "@jupyter-widgets/base",
          "model_name": "LayoutModel",
          "state": {
            "_view_name": "LayoutView",
            "grid_template_rows": null,
            "right": null,
            "justify_content": null,
            "_view_module": "@jupyter-widgets/base",
            "overflow": null,
            "_model_module_version": "1.2.0",
            "_view_count": null,
            "flex_flow": null,
            "width": null,
            "min_width": null,
            "border": null,
            "align_items": null,
            "bottom": null,
            "_model_module": "@jupyter-widgets/base",
            "top": null,
            "grid_column": null,
            "overflow_y": null,
            "overflow_x": null,
            "grid_auto_flow": null,
            "grid_area": null,
            "grid_template_columns": null,
            "flex": null,
            "_model_name": "LayoutModel",
            "justify_items": null,
            "grid_row": null,
            "max_height": null,
            "align_content": null,
            "visibility": null,
            "align_self": null,
            "height": null,
            "min_height": null,
            "padding": null,
            "grid_auto_rows": null,
            "grid_gap": null,
            "max_width": null,
            "order": null,
            "_view_module_version": "1.2.0",
            "grid_template_areas": null,
            "object_position": null,
            "object_fit": null,
            "grid_auto_columns": null,
            "margin": null,
            "display": null,
            "left": null
          }
        }
      }
    }
  },
  "cells": [
    {
      "cell_type": "code",
      "metadata": {
        "id": "XFgbJsc_k09g"
      },
      "source": [
        "import os, io\n",
        "import json\n",
        "import gzip\n",
        "import pandas as pd\n",
        "from sklearn.feature_extraction.text import CountVectorizer,TfidfVectorizer, TfidfTransformer\n",
        "from sklearn.base import TransformerMixin\n",
        "from sklearn.pipeline import Pipeline\n",
        "from sklearn.model_selection import train_test_split\n",
        "from sklearn import metrics\n",
        "from sklearn.linear_model import LogisticRegression\n",
        "from sklearn.metrics import accuracy_score \n",
        "from sklearn.base import TransformerMixin \n",
        "from sklearn.pipeline import Pipeline\n",
        "from sklearn.svm import LinearSVC\n",
        "from sklearn.naive_bayes import MultinomialNB, GaussianNB, BernoulliNB\n",
        "from sklearn.base import BaseEstimator\n",
        "from sklearn.decomposition import TruncatedSVD\n",
        "from sklearn.ensemble import RandomForestClassifier\n",
        "from sklearn.metrics import classification_report, precision_score, recall_score, f1_score\n",
        "from sklearn.model_selection import StratifiedKFold\n",
        "\n",
        "\n",
        "import sklearn\n",
        "import string\n",
        "import spacy\n",
        "from spacy.lang.en.stop_words import STOP_WORDS\n",
        "from spacy.lang.en import English\n",
        "import numpy as np\n",
        "import matplotlib.pyplot as plt\n",
        "import seaborn as sns\n",
        "import time\n",
        "import tarfile"
      ],
      "execution_count": 1,
      "outputs": []
    },
    {
      "cell_type": "code",
      "metadata": {
        "colab": {
          "base_uri": "https://localhost:8080/"
        },
        "id": "d9hmAoiGlBnO",
        "outputId": "641baf1d-cfff-4d41-b329-36225853808a"
      },
      "source": [
        "!wget http://deepyeti.ucsd.edu/jianmo/amazon/categoryFiles/All_Beauty.json.gz -P datasets\n",
        "!wget http://deepyeti.ucsd.edu/jianmo/amazon/categoryFiles/AMAZON_FASHION.json.gz -P datasets\n",
        "!wget http://deepyeti.ucsd.edu/jianmo/amazon/categoryFiles/Software.json.gz -P datasets"
      ],
      "execution_count": 2,
      "outputs": [
        {
          "output_type": "stream",
          "text": [
            "--2021-05-14 18:11:59--  http://deepyeti.ucsd.edu/jianmo/amazon/categoryFiles/All_Beauty.json.gz\n",
            "Resolving deepyeti.ucsd.edu (deepyeti.ucsd.edu)... 169.228.63.50\n",
            "Connecting to deepyeti.ucsd.edu (deepyeti.ucsd.edu)|169.228.63.50|:80... connected.\n",
            "HTTP request sent, awaiting response... 200 OK\n",
            "Length: 47350910 (45M) [application/octet-stream]\n",
            "Saving to: ‘datasets/All_Beauty.json.gz’\n",
            "\n",
            "All_Beauty.json.gz  100%[===================>]  45.16M  29.6MB/s    in 1.5s    \n",
            "\n",
            "2021-05-14 18:12:01 (29.6 MB/s) - ‘datasets/All_Beauty.json.gz’ saved [47350910/47350910]\n",
            "\n",
            "--2021-05-14 18:12:01--  http://deepyeti.ucsd.edu/jianmo/amazon/categoryFiles/AMAZON_FASHION.json.gz\n",
            "Resolving deepyeti.ucsd.edu (deepyeti.ucsd.edu)... 169.228.63.50\n",
            "Connecting to deepyeti.ucsd.edu (deepyeti.ucsd.edu)|169.228.63.50|:80... connected.\n",
            "HTTP request sent, awaiting response... 200 OK\n",
            "Length: 93185167 (89M) [application/octet-stream]\n",
            "Saving to: ‘datasets/AMAZON_FASHION.json.gz’\n",
            "\n",
            "AMAZON_FASHION.json 100%[===================>]  88.87M  33.8MB/s    in 2.6s    \n",
            "\n",
            "2021-05-14 18:12:04 (33.8 MB/s) - ‘datasets/AMAZON_FASHION.json.gz’ saved [93185167/93185167]\n",
            "\n",
            "--2021-05-14 18:12:04--  http://deepyeti.ucsd.edu/jianmo/amazon/categoryFiles/Software.json.gz\n",
            "Resolving deepyeti.ucsd.edu (deepyeti.ucsd.edu)... 169.228.63.50\n",
            "Connecting to deepyeti.ucsd.edu (deepyeti.ucsd.edu)|169.228.63.50|:80... connected.\n",
            "HTTP request sent, awaiting response... 200 OK\n",
            "Length: 98221392 (94M) [application/octet-stream]\n",
            "Saving to: ‘datasets/Software.json.gz’\n",
            "\n",
            "Software.json.gz    100%[===================>]  93.67M  34.6MB/s    in 2.7s    \n",
            "\n",
            "2021-05-14 18:12:06 (34.6 MB/s) - ‘datasets/Software.json.gz’ saved [98221392/98221392]\n",
            "\n"
          ],
          "name": "stdout"
        }
      ]
    },
    {
      "cell_type": "code",
      "metadata": {
        "id": "isMuARtolGOz"
      },
      "source": [
        "data = []\n",
        "with gzip.open('datasets/All_Beauty.json.gz') as f:\n",
        "    for l in f:\n",
        "        data.append(json.loads(l.strip()))\n",
        "with gzip.open('datasets/AMAZON_FASHION.json.gz') as f:\n",
        "    for l in f:\n",
        "        data.append(json.loads(l.strip()))\n",
        "with gzip.open('datasets/Software.json.gz') as f:\n",
        "    for l in f:\n",
        "        data.append(json.loads(l.strip()))"
      ],
      "execution_count": 3,
      "outputs": []
    },
    {
      "cell_type": "code",
      "metadata": {
        "colab": {
          "base_uri": "https://localhost:8080/"
        },
        "id": "MIJdZBgnlHWr",
        "outputId": "d2993343-e566-41c9-b27f-7620efbc6e71"
      },
      "source": [
        "print(data[1])"
      ],
      "execution_count": 4,
      "outputs": [
        {
          "output_type": "stream",
          "text": [
            "{'overall': 4.0, 'verified': True, 'reviewTime': '12 18, 2014', 'reviewerID': 'A2F5GHSXFQ0W6J', 'asin': '0143026860', 'reviewerName': 'Mary K. Byke', 'reviewText': \"My  husband wanted to reading about the Negro Baseball and this a great addition to his library\\n Our library doesn't haveinformation so this book is his start. Tthank you\", 'summary': \"... to reading about the Negro Baseball and this a great addition to his library Our library doesn't haveinformation so ...\", 'unixReviewTime': 1418860800}\n"
          ],
          "name": "stdout"
        }
      ]
    },
    {
      "cell_type": "code",
      "metadata": {
        "id": "GMk4N8tRlLz3"
      },
      "source": [
        "newdata = []\n",
        "counter_1 = 0\n",
        "counter_2 = 0\n",
        "counter_3 = 0\n",
        "counter_4 = 0\n",
        "counter_5 = 0\n",
        "MAX_TRAIN = 1500\n",
        "MIN_SENTENCE_LENGTH = 0\n",
        "MAX_SENTENCE_LENGTH = 25\n",
        "np.random.seed(42)\n",
        "indices = np.random.permutation(len(data))\n",
        "\n",
        "for ind in indices:\n",
        "        i = data[ind]\n",
        "        try:\n",
        "            t = i['reviewText']\n",
        "            revlabel = []\n",
        "            if (i['overall'] == 1 and counter_1+counter_2<MAX_TRAIN  and len(t.split(' '))>MIN_SENTENCE_LENGTH and len(t.split(' '))<MAX_SENTENCE_LENGTH):\n",
        "                counter_1 += 1\n",
        "                textPos = i['reviewText']\n",
        "                revlabel.append(textPos)\n",
        "                revlabel.append(0)\n",
        "                newdata.append(revlabel)\n",
        "            elif (i['overall'] == 2 and counter_2+counter_1<MAX_TRAIN  and len(t.split(' '))>MIN_SENTENCE_LENGTH and len(t.split(' '))<MAX_SENTENCE_LENGTH):\n",
        "                counter_2 += 1\n",
        "                textPos = i['reviewText']\n",
        "                revlabel.append(textPos)\n",
        "                revlabel.append(0)\n",
        "                newdata.append(revlabel)\n",
        "            elif (i['overall'] == 3 and counter_3<MAX_TRAIN/3  and len(t.split(' '))>MIN_SENTENCE_LENGTH and len(t.split(' '))<MAX_SENTENCE_LENGTH):\n",
        "                counter_3 += 1\n",
        "                textPos = i['reviewText']\n",
        "                revlabel.append(textPos)\n",
        "                revlabel.append(1)\n",
        "            elif (i['overall'] == 4 and counter_4+counter_5<MAX_TRAIN  and len(t.split(' '))>MIN_SENTENCE_LENGTH and len(t.split(' '))<MAX_SENTENCE_LENGTH):\n",
        "                counter_4 += 1\n",
        "                textPos = i['reviewText']\n",
        "                revlabel.append(textPos)\n",
        "                revlabel.append(1)\n",
        "                newdata.append(revlabel)\n",
        "            elif (i['overall'] == 5 and counter_5+counter_4<MAX_TRAIN  and len(t.split(' '))>MIN_SENTENCE_LENGTH and len(t.split(' '))<MAX_SENTENCE_LENGTH):\n",
        "                counter_5 += 1\n",
        "                textPos = i['reviewText']\n",
        "                revlabel.append(textPos)\n",
        "                revlabel.append(1)\n",
        "                newdata.append(revlabel)\n",
        "        except:\n",
        "            continue"
      ],
      "execution_count": 5,
      "outputs": []
    },
    {
      "cell_type": "code",
      "metadata": {
        "colab": {
          "base_uri": "https://localhost:8080/"
        },
        "id": "y6j1FLgelMq1",
        "outputId": "0b8aa52e-9159-49c1-8e7b-32012e77e404"
      },
      "source": [
        "df_amazon = pd.DataFrame(newdata, columns=['reviewText', 'label'])\n",
        "df_amazon.head\n",
        "df_amazon.label.value_counts()"
      ],
      "execution_count": 6,
      "outputs": [
        {
          "output_type": "execute_result",
          "data": {
            "text/plain": [
              "1    1500\n",
              "0    1500\n",
              "Name: label, dtype: int64"
            ]
          },
          "metadata": {
            "tags": []
          },
          "execution_count": 6
        }
      ]
    },
    {
      "cell_type": "code",
      "metadata": {
        "colab": {
          "base_uri": "https://localhost:8080/",
          "height": 292
        },
        "id": "zf4U8buvlPky",
        "outputId": "7d16c7cf-a933-43d5-a29b-e546ee3ad30c"
      },
      "source": [
        "plt.figure()\n",
        "pd.value_counts(df_amazon['label']).plot.bar(title=\"Sentiment distribution\")\n",
        "plt.xlabel(\"Sentiment\")\n",
        "plt.ylabel(\"No. of rows\")\n",
        "plt.show()"
      ],
      "execution_count": 7,
      "outputs": [
        {
          "output_type": "display_data",
          "data": {
            "image/png": "[encoded data removed]",
            "text/plain": [
              "<Figure size 432x288 with 1 Axes>"
            ]
          },
          "metadata": {
            "tags": [],
            "needs_background": "light"
          }
        }
      ]
    },
    {
      "cell_type": "code",
      "metadata": {
        "id": "O7S7QMtflQXR"
      },
      "source": [
        "punctuations = string.punctuation\n",
        "\n",
        "nlp = spacy.load('en')\n",
        "stop_words = spacy.lang.en.stop_words.STOP_WORDS\n",
        "\n",
        "parser = English()\n",
        "\n",
        "def spacy_tokenizer(sentence):\n",
        "    mytokens = parser(sentence)\n",
        "    mytokens = [ word.lemma_.lower().strip() if word.lemma_ != \"-PRON-\" else word.lower_ for word in mytokens ]\n",
        "    mytokens = [ word for word in mytokens if word not in stop_words and word not in punctuations ]\n",
        "    return mytokens\n",
        "\n",
        "def clean_text(text):\n",
        "    return text.strip().lower()"
      ],
      "execution_count": 8,
      "outputs": []
    },
    {
      "cell_type": "code",
      "metadata": {
        "id": "QsYHp8XzlT7E"
      },
      "source": [
        "bow_vector = CountVectorizer(tokenizer = spacy_tokenizer, ngram_range=(1,1))"
      ],
      "execution_count": 9,
      "outputs": []
    },
    {
      "cell_type": "code",
      "metadata": {
        "id": "qRq-HZO1lWCx"
      },
      "source": [
        "X = df_amazon['reviewText']\n",
        "ylabels = df_amazon['label']\n",
        "X_train, X_test, y_train, y_test = train_test_split(X, ylabels, test_size=0.3, random_state=42)"
      ],
      "execution_count": 10,
      "outputs": []
    },
    {
      "cell_type": "code",
      "metadata": {
        "id": "PAufK8xplacn"
      },
      "source": [
        "class predictors(TransformerMixin):\n",
        "    def transform(self, X, **transform_params):\n",
        "        return [clean_text(text) for text in X]\n",
        "\n",
        "\n",
        "    def fit(self, X, y=None, **fit_params):\n",
        "        return self\n",
        "\n",
        "\n",
        "    def get_params(self, deep=True):\n",
        "        return {}"
      ],
      "execution_count": 11,
      "outputs": []
    },
    {
      "cell_type": "code",
      "metadata": {
        "id": "0VZi1qfBlcs1"
      },
      "source": [
        "classifier = MultinomialNB()"
      ],
      "execution_count": 12,
      "outputs": []
    },
    {
      "cell_type": "code",
      "metadata": {
        "id": "WR0jlhlmle8_"
      },
      "source": [
        "pipe = Pipeline([(\"cleaner\", predictors()),\n",
        "                 ('vectorizer', bow_vector),\n",
        "                 ('classifier', classifier)])"
      ],
      "execution_count": 13,
      "outputs": []
    },
    {
      "cell_type": "code",
      "metadata": {
        "colab": {
          "base_uri": "https://localhost:8080/"
        },
        "id": "zT-rFpH8lg7X",
        "outputId": "bd5ba33e-9ef9-4740-8f7e-10d1ca949240"
      },
      "source": [
        "pipe.fit(X_train,y_train)"
      ],
      "execution_count": 14,
      "outputs": [
        {
          "output_type": "execute_result",
          "data": {
            "text/plain": [
              "Pipeline(memory=None,\n",
              "         steps=[('cleaner', <__main__.predictors object at 0x7f5a13c620d0>),\n",
              "                ('vectorizer',\n",
              "                 CountVectorizer(analyzer='word', binary=False,\n",
              "                                 decode_error='strict',\n",
              "                                 dtype=<class 'numpy.int64'>, encoding='utf-8',\n",
              "                                 input='content', lowercase=True, max_df=1.0,\n",
              "                                 max_features=None, min_df=1,\n",
              "                                 ngram_range=(1, 1), preprocessor=None,\n",
              "                                 stop_words=None, strip_accents=None,\n",
              "                                 token_pattern='(?u)\\\\b\\\\w\\\\w+\\\\b',\n",
              "                                 tokenizer=<function spacy_tokenizer at 0x7f5a14b35440>,\n",
              "                                 vocabulary=None)),\n",
              "                ('classifier',\n",
              "                 MultinomialNB(alpha=1.0, class_prior=None, fit_prior=True))],\n",
              "         verbose=False)"
            ]
          },
          "metadata": {
            "tags": []
          },
          "execution_count": 14
        }
      ]
    },
    {
      "cell_type": "code",
      "metadata": {
        "colab": {
          "base_uri": "https://localhost:8080/"
        },
        "id": "7Ly3fCcDlirR",
        "outputId": "1623e301-1c12-453a-de68-0292ede16267"
      },
      "source": [
        "predicted = pipe.predict(X_test)\n",
        "\n",
        "\n",
        "print(\"Naive Bayes Accuracy:\",metrics.accuracy_score(y_test, predicted))\n",
        "print(\"Naive Bayes Precision:\",metrics.precision_score(y_test, predicted))\n",
        "print(\"Naive Bayes Recall:\",metrics.recall_score(y_test, predicted))"
      ],
      "execution_count": 15,
      "outputs": [
        {
          "output_type": "stream",
          "text": [
            "Naive Bayes Accuracy: 0.8622222222222222\n",
            "Naive Bayes Precision: 0.8599562363238512\n",
            "Naive Bayes Recall: 0.8675496688741722\n"
          ],
          "name": "stdout"
        }
      ]
    },
    {
      "cell_type": "code",
      "metadata": {
        "id": "pqJmTuOOlk1g",
        "colab": {
          "base_uri": "https://localhost:8080/"
        },
        "outputId": "cd25caa3-abb0-439d-87c7-8dac1a0590d7"
      },
      "source": [
        "classifier = LogisticRegression()\n",
        "\n",
        "pipe = Pipeline([(\"cleaner\", predictors()),\n",
        "                 ('vectorizer', bow_vector),\n",
        "                 ('classifier', classifier)])\n",
        "\n",
        "\n",
        "pipe.fit(X_train,y_train)\n",
        "predicted = pipe.predict(X_test)\n",
        "\n",
        "\n",
        "print(\"Logistic Regression Accuracy:\",metrics.accuracy_score(y_test, predicted))\n",
        "print(\"Logistic Regression Precision:\",metrics.precision_score(y_test, predicted))\n",
        "print(\"Logistic Regression Recall:\",metrics.recall_score(y_test, predicted))"
      ],
      "execution_count": 16,
      "outputs": [
        {
          "output_type": "stream",
          "text": [
            "Logistic Regression Accuracy: 0.8511111111111112\n",
            "Logistic Regression Precision: 0.8977556109725686\n",
            "Logistic Regression Recall: 0.7947019867549668\n"
          ],
          "name": "stdout"
        }
      ]
    },
    {
      "cell_type": "code",
      "metadata": {
        "id": "_reo9DzUloHm",
        "colab": {
          "base_uri": "https://localhost:8080/"
        },
        "outputId": "e65c6324-dd78-4a06-b072-0040a6c2c3ae"
      },
      "source": [
        "tempx=bow_vector.fit_transform(X_train)\n",
        "tempx.shape"
      ],
      "execution_count": 17,
      "outputs": [
        {
          "output_type": "execute_result",
          "data": {
            "text/plain": [
              "(2100, 2750)"
            ]
          },
          "metadata": {
            "tags": []
          },
          "execution_count": 17
        }
      ]
    },
    {
      "cell_type": "code",
      "metadata": {
        "id": "MMycybc4lq7j",
        "colab": {
          "base_uri": "https://localhost:8080/"
        },
        "outputId": "fa2245ca-e4ee-4246-817d-e377bd48c32b"
      },
      "source": [
        "print(tempx[78,:]>0)"
      ],
      "execution_count": 18,
      "outputs": [
        {
          "output_type": "stream",
          "text": [
            "  (0, 742)\tTrue\n",
            "  (0, 768)\tTrue\n",
            "  (0, 896)\tTrue\n",
            "  (0, 1123)\tTrue\n",
            "  (0, 1213)\tTrue\n",
            "  (0, 1416)\tTrue\n",
            "  (0, 1693)\tTrue\n",
            "  (0, 2138)\tTrue\n",
            "  (0, 2460)\tTrue\n"
          ],
          "name": "stdout"
        }
      ]
    },
    {
      "cell_type": "code",
      "metadata": {
        "id": "6R3QbJDDls-z"
      },
      "source": [
        "from gensim.models import FastText\n",
        "import gensim\n",
        "import time\n",
        "from gensim.utils import simple_preprocess\n",
        "from gensim.parsing.preprocessing import remove_stopwords\n",
        "from gensim.parsing.porter import PorterStemmer\n",
        "import gensim.downloader as gendownload\n",
        "porter_stemmer = PorterStemmer()\n",
        "from tqdm.notebook import tqdm"
      ],
      "execution_count": 19,
      "outputs": []
    },
    {
      "cell_type": "code",
      "metadata": {
        "id": "1-2X8uoclu3m",
        "colab": {
          "base_uri": "https://localhost:8080/",
          "height": 166,
          "referenced_widgets": [
            "cb9c6bc47101458294a1eecfbae1715d",
            "844fdd29539144d7b13d1355386917d4",
            "a6ca9a9f15d64aed93aa9341b6685319",
            "54bc5eb2754d471f8118255f0512da7c",
            "2e2ea23f172e4794b875c7edcd253171",
            "db7c33910333407a8a53e40749ae4ef8",
            "6eef326d1227486495ad557ca3deed8b",
            "0df0f8ef4e1f4e8bb5abab0bf5a442fd",
            "5775924a2ee64860ab0f5c610dbd6a88",
            "d719a5991eae435ba40f8a80c4afcba0",
            "17bc8169787d4da6ba79c14377608397",
            "fa80c37ca42544b5b09dd0df5eb3a81b",
            "79979004680d4d73b576fd5a3a16bf91",
            "3de7738a62f34ea3a101e3a479c88016",
            "3c67b3fbdfa2409ea36e25860d2151ff",
            "3c22940fe8474e3c9d75cfb7ee0b2f15"
          ]
        },
        "outputId": "715d96d8-faf0-4bf3-b987-9415e8fc3c13"
      },
      "source": [
        "df_amazon = pd.DataFrame(newdata, columns=['reviewText', 'rating'])\n",
        "df_amazon.head\n",
        "df_amazon['stop_w_rem'] = [remove_stopwords(line) for line in tqdm(df_amazon['reviewText'])]\n",
        "df_amazon['tokenized_text'] = [simple_preprocess(line, deacc=True) for line in tqdm(df_amazon['stop_w_rem'])]\n",
        "df_amazon.rating.value_counts()"
      ],
      "execution_count": 20,
      "outputs": [
        {
          "output_type": "display_data",
          "data": {
            "application/vnd.jupyter.widget-view+json": {
              "model_id": "cb9c6bc47101458294a1eecfbae1715d",
              "version_minor": 0,
              "version_major": 2
            },
            "text/plain": [
              "HBox(children=(FloatProgress(value=0.0, max=3000.0), HTML(value='')))"
            ]
          },
          "metadata": {
            "tags": []
          }
        },
        {
          "output_type": "stream",
          "text": [
            "\n"
          ],
          "name": "stdout"
        },
        {
          "output_type": "display_data",
          "data": {
            "application/vnd.jupyter.widget-view+json": {
              "model_id": "5775924a2ee64860ab0f5c610dbd6a88",
              "version_minor": 0,
              "version_major": 2
            },
            "text/plain": [
              "HBox(children=(FloatProgress(value=0.0, max=3000.0), HTML(value='')))"
            ]
          },
          "metadata": {
            "tags": []
          }
        },
        {
          "output_type": "stream",
          "text": [
            "\n"
          ],
          "name": "stdout"
        },
        {
          "output_type": "execute_result",
          "data": {
            "text/plain": [
              "1    1500\n",
              "0    1500\n",
              "Name: rating, dtype: int64"
            ]
          },
          "metadata": {
            "tags": []
          },
          "execution_count": 20
        }
      ]
    },
    {
      "cell_type": "code",
      "metadata": {
        "id": "vFeSIp56lw3U",
        "colab": {
          "base_uri": "https://localhost:8080/"
        },
        "outputId": "e6bf4c7f-6c5c-430e-ced2-5e94ca2b17ca"
      },
      "source": [
        "\n",
        "def split_train_test(df_amazon, test_size=0.3, shuffle_state=True):\n",
        "   X_train, X_test, Y_train, Y_test = train_test_split(df_amazon[['tokenized_text']],\n",
        "                                                       df_amazon['rating'],\n",
        "                                                       shuffle=shuffle_state,\n",
        "                                                       test_size=test_size,\n",
        "                                                       random_state=42)\n",
        "   print(\"Value counts for Train sentiments\")\n",
        "   print(Y_train.value_counts())\n",
        "   print(\"Value counts for Test sentiments\")\n",
        "   print(Y_test.value_counts())\n",
        "   print(type(X_train))\n",
        "   print(type(Y_train))\n",
        "   X_train = X_train.reset_index()\n",
        "   X_test = X_test.reset_index()\n",
        "   Y_train = Y_train.to_frame()\n",
        "   Y_train = Y_train.reset_index()\n",
        "   Y_test = Y_test.to_frame()\n",
        "   Y_test = Y_test.reset_index()\n",
        "   print(X_train.head())\n",
        "   return X_train, X_test, Y_train, Y_test\n",
        "\n",
        "\n",
        "X_train, X_test, Y_train, Y_test = split_train_test(df_amazon)\n"
      ],
      "execution_count": 21,
      "outputs": [
        {
          "output_type": "stream",
          "text": [
            "Value counts for Train sentiments\n",
            "0    1053\n",
            "1    1047\n",
            "Name: rating, dtype: int64\n",
            "Value counts for Test sentiments\n",
            "1    453\n",
            "0    447\n",
            "Name: rating, dtype: int64\n",
            "<class 'pandas.core.frame.DataFrame'>\n",
            "<class 'pandas.core.series.Series'>\n",
            "   index                                     tokenized_text\n",
            "0    611                          [exactly, look, pictures]\n",
            "1    530  [purchased, employees, they, understand, qb, l...\n",
            "2   2787      [scratched, up, used, didn, order, use, case]\n",
            "3     49          [payed, yrs, got, month, days, left, why]\n",
            "4   1883  [cheaply, made, sent, daughter, law, quit, bit...\n"
          ],
          "name": "stdout"
        }
      ]
    },
    {
      "cell_type": "code",
      "metadata": {
        "id": "zTSf7nKslyxs",
        "colab": {
          "base_uri": "https://localhost:8080/"
        },
        "outputId": "f24cfbe9-2057-420e-c076-21cb680776fd"
      },
      "source": [
        "\n",
        "DIM_SIZE = 100\n",
        "start_time = time.time()\n",
        "train_text = pd.Series(df_amazon['tokenized_text']).values\n",
        "ft_model = FastText(train_text, min_count = 1, size = DIM_SIZE, workers = 20, window = 5, sg = 1, iter = 5)\n",
        "print(\"Time taken to train FastText model: \" + str(time.time() - start_time))\n",
        "\n",
        "\n",
        "#To download a pre-trainedmodel of size 300, run the below command\n",
        "#ft_model = gendownload.load(\"fasttext-wiki-news-subwords-300\")\n"
      ],
      "execution_count": 22,
      "outputs": [
        {
          "output_type": "stream",
          "text": [
            "Time taken to train FastText model: 1.6959867477416992\n"
          ],
          "name": "stdout"
        }
      ]
    },
    {
      "cell_type": "code",
      "metadata": {
        "id": "piPstcCCl1Iy",
        "colab": {
          "base_uri": "https://localhost:8080/",
          "height": 120,
          "referenced_widgets": [
            "dad3288422a74af0a8a6c73b30ee37cf",
            "051af61960bf484086b3ff5a0e29bd86",
            "22dd3afbc8644e1da8a4ccf444801a06",
            "3f9e00bbab6744a3a493a96ed3fbae5c",
            "3eb590d1d52d46bdb16ee82ca8501bbd",
            "563051e3f49e4e96afdfabb704c19c40",
            "9ac47b522e6a4d2e8806053f4203c3ef",
            "240eced65bdb45468c8bb6e65033eea0"
          ]
        },
        "outputId": "7d3a3ed7-862f-4b37-e3ac-61b3232ebf13"
      },
      "source": [
        "ft_filename = 'train_review_ft.csv'\n",
        "open('ft_filename','w').close()\n",
        "with open(ft_filename, 'w+') as ft_file:\n",
        "   for index, row in tqdm(X_train.iterrows()):\n",
        "       vec = np.zeros(DIM_SIZE,)\n",
        "       count = 0\n",
        "       for token in row['tokenized_text']:\n",
        "           try:\n",
        "               vec+=ft_model[token]\n",
        "               count+=1\n",
        "           except:\n",
        "               pass\n",
        "\n",
        "       vec = vec/(max(1,count))\n",
        "\n",
        "       model_vector = vec.tolist()\n",
        "\n",
        "       if index == 0:\n",
        "           header = \",\".join(str(ele) for ele in range(DIM_SIZE))\n",
        "           ft_file.write(header)\n",
        "           ft_file.write(\"\\n\")\n",
        "       if type(model_vector) is list: \n",
        "           line1 = \",\".join( [str(vector_element) for vector_element in model_vector] )\n",
        "       else:\n",
        "           line1 = \",\".join([str(0) for i in range(DIM_SIZE)])\n",
        "       ft_file.write(line1)\n",
        "       ft_file.write('\\n')"
      ],
      "execution_count": 23,
      "outputs": [
        {
          "output_type": "display_data",
          "data": {
            "application/vnd.jupyter.widget-view+json": {
              "model_id": "dad3288422a74af0a8a6c73b30ee37cf",
              "version_minor": 0,
              "version_major": 2
            },
            "text/plain": [
              "HBox(children=(FloatProgress(value=1.0, bar_style='info', max=1.0), HTML(value='')))"
            ]
          },
          "metadata": {
            "tags": []
          }
        },
        {
          "output_type": "stream",
          "text": [
            "/usr/local/lib/python3.7/dist-packages/ipykernel_launcher.py:9: DeprecationWarning: Call to deprecated `__getitem__` (Method will be removed in 4.0.0, use self.wv.__getitem__() instead).\n",
            "  if __name__ == '__main__':\n"
          ],
          "name": "stderr"
        },
        {
          "output_type": "stream",
          "text": [
            "\n"
          ],
          "name": "stdout"
        }
      ]
    },
    {
      "cell_type": "code",
      "metadata": {
        "id": "7LpV-D3ql4Ql",
        "colab": {
          "base_uri": "https://localhost:8080/",
          "height": 120,
          "referenced_widgets": [
            "9bf5e5b65c6648a4917f10359de56caa",
            "2b8355d8e9b744da9f645a6f05584ef5",
            "6398d00bf146407aaea49a635cd6c660",
            "672b94eb3633481cab901fe5b0682847",
            "24d8661e361c453da0ecdc895473db93",
            "c9aabf46d45c4423a8175ad46cd14e17",
            "ab5e6c62e68746f69a258da6350900b5",
            "e875a6acf45e4e8bbe299bd5e84ffc1f"
          ]
        },
        "outputId": "1447b331-1ce6-45c7-f38e-c067a439ad7b"
      },
      "source": [
        "\n",
        "test_features_ft = []\n",
        "\n",
        "\n",
        "start_time = time.time()\n",
        "\n",
        "\n",
        "for index, row in tqdm(X_test.iterrows()):\n",
        "   vec = np.zeros(DIM_SIZE,)\n",
        "   count = 0\n",
        "   for token in row['tokenized_text']:\n",
        "       try:\n",
        "           vec+=ft_model[token]\n",
        "           count+=1\n",
        "       except:\n",
        "           continue\n",
        "   vec = vec/(max(1,count))\n",
        "\n",
        "\n",
        "   model_vector = vec.tolist()\n",
        "\n",
        "\n",
        "   if type(model_vector) is list:\n",
        "       test_features_ft.append(model_vector)\n",
        "   else:\n",
        "       test_features_ft.append(np.array([0 for i in range(DIM_SIZE)]))\n"
      ],
      "execution_count": 24,
      "outputs": [
        {
          "output_type": "display_data",
          "data": {
            "application/vnd.jupyter.widget-view+json": {
              "model_id": "9bf5e5b65c6648a4917f10359de56caa",
              "version_minor": 0,
              "version_major": 2
            },
            "text/plain": [
              "HBox(children=(FloatProgress(value=1.0, bar_style='info', max=1.0), HTML(value='')))"
            ]
          },
          "metadata": {
            "tags": []
          }
        },
        {
          "output_type": "stream",
          "text": [
            "\n"
          ],
          "name": "stdout"
        },
        {
          "output_type": "stream",
          "text": [
            "/usr/local/lib/python3.7/dist-packages/ipykernel_launcher.py:13: DeprecationWarning: Call to deprecated `__getitem__` (Method will be removed in 4.0.0, use self.wv.__getitem__() instead).\n",
            "  del sys.path[0]\n"
          ],
          "name": "stderr"
        }
      ]
    },
    {
      "cell_type": "code",
      "metadata": {
        "id": "Z1foy1N7l6Rf",
        "colab": {
          "base_uri": "https://localhost:8080/"
        },
        "outputId": "2ab1f58d-ada8-4ffb-b5f8-87614564aa5e"
      },
      "source": [
        "ft_df = pd.read_csv(ft_filename, escapechar='\\\\')\n",
        "print(len(ft_df.to_numpy()))\n",
        "print(len(Y_train))\n",
        "print(len(test_features_ft))\n",
        "print(len(Y_test))"
      ],
      "execution_count": 25,
      "outputs": [
        {
          "output_type": "stream",
          "text": [
            "2100\n",
            "2100\n",
            "900\n",
            "900\n"
          ],
          "name": "stdout"
        }
      ]
    },
    {
      "cell_type": "code",
      "metadata": {
        "id": "LUxZm-ddl9n4",
        "colab": {
          "base_uri": "https://localhost:8080/"
        },
        "outputId": "95e53333-35c5-4a80-91bd-6f3c32df81f9"
      },
      "source": [
        "#Define the models\n",
        "clf_lr_ft = LogisticRegression(max_iter=200)\n",
        "clf_gnb_ft = GaussianNB()\n",
        "\n",
        "\n",
        "#Fit the Linear regression Model\n",
        "start_time = time.time()\n",
        "clf_lr_ft.fit(ft_df, Y_train['rating'])\n",
        "print(\"Time taken to fit the LR model with FastText vectors: \" + str(time.time() - start_time))\n",
        "\n",
        "\n",
        "#Fit the Naive Bayes model\n",
        "start_time = time.time()\n",
        "clf_gnb_ft.fit(ft_df, Y_train['rating'])\n",
        "print(\"Time taken to fit the GNB model with FastText vectors: \" + str(time.time() - start_time))\n",
        "\n",
        "\n",
        "#Test the models\n",
        "start_time = time.time()\n",
        "test_predictions_ft_lr = clf_lr_ft.predict(test_features_ft)\n",
        "test_predictions_ft_gnb = clf_gnb_ft.predict(test_features_ft)\n",
        "\n",
        "\n",
        "print(\"Time taken to predict with FastText vectors: \" + str(time.time() - start_time))\n",
        "\n",
        "print(\"Naive Bayes Regression Accuracy:\",metrics.accuracy_score(Y_test['rating'],test_predictions_ft_gnb))\n",
        "print(\"Naive Bayes Regression Precision:\",metrics.precision_score(Y_test['rating'],test_predictions_ft_gnb))\n",
        "print(\"Naive Bayes Regression Recall:\",metrics.recall_score(Y_test['rating'],test_predictions_ft_gnb))\n",
        "\n",
        "print(\"Logistic Regression Accuracy:\",metrics.accuracy_score(Y_test['rating'],test_predictions_ft_lr))\n",
        "print(\"Logistic Regression Precision:\",metrics.precision_score(Y_test['rating'],test_predictions_ft_lr))\n",
        "print(\"Logistic Regression Recall:\",metrics.recall_score(Y_test['rating'],test_predictions_ft_lr))\n"
      ],
      "execution_count": 26,
      "outputs": [
        {
          "output_type": "stream",
          "text": [
            "Time taken to fit the LR model with FastText vectors: 0.01974797248840332\n",
            "Time taken to fit the GNB model with FastText vectors: 0.00445866584777832\n",
            "Time taken to predict with FastText vectors: 0.013940572738647461\n",
            "Naive Bayes Regression Accuracy: 0.54\n",
            "Naive Bayes Regression Precision: 0.5314009661835749\n",
            "Naive Bayes Regression Recall: 0.7284768211920529\n",
            "Logistic Regression Accuracy: 0.5377777777777778\n",
            "Logistic Regression Precision: 0.537525354969574\n",
            "Logistic Regression Recall: 0.5849889624724062\n"
          ],
          "name": "stdout"
        }
      ]
    },
    {
      "cell_type": "code",
      "metadata": {
        "id": "6V2FJcbzl_j2"
      },
      "source": [
        "import torch\n",
        "import torch.nn as nn\n",
        "import torch.nn.functional as F\n",
        "from torch.autograd import Variable\n",
        "from torch.nn.parameter import Parameter\n",
        "from torch.optim import Adam, SGD"
      ],
      "execution_count": 27,
      "outputs": []
    },
    {
      "cell_type": "code",
      "metadata": {
        "id": "O71MSfYRmC1R"
      },
      "source": [
        "class DeepLayer(nn.Module):\n",
        "   def __init__(self, inputDimension, outputDimension ):\n",
        "\n",
        "\n",
        "       super(DeepLayer,self).__init__()\n",
        "\n",
        "\n",
        "       self.inputDimension = inputDimension\n",
        "       self.outputDimension = outputDimension\n",
        "       self.layer_multiplier = 2\n",
        "# Define the linear parts of each layer. Please note we need a different definition for each layer\n",
        "       self.linear_in =nn.Linear(self.inputDimension, self.inputDimension * self.layer_multiplier, bias = True).cuda()\n",
        "       self.linear_hidden1 = nn.Linear(self.inputDimension  * self.layer_multiplier, self.inputDimension * self.layer_multiplier, bias = True).cuda()\n",
        "       self.linear_hidden2 = nn.Linear(self.inputDimension  * self.layer_multiplier, self.inputDimension * self.layer_multiplier, bias = True).cuda()\n",
        "       self.linear_out = nn.Linear(self.inputDimension  * self.layer_multiplier, self.outputDimension, bias = True).cuda()\n",
        "# Define their respective non-linear activations\n",
        "       self.nonLinear1 = nn.ReLU().cuda()\n",
        "       self.nonLinear2 = nn.ReLU().cuda()\n",
        "       self.nonLinear3 = nn.ReLU().cuda()\n",
        "\n",
        "\n",
        "# Define dropout wrappers\n",
        "       self.dropout_rate = 0.5\n",
        "       self.drop1 = nn.Dropout(p=self.dropout_rate)\n",
        "       self.drop2 = nn.Dropout(p=self.dropout_rate)\n",
        "       self.drop3 = nn.Dropout(p=self.dropout_rate)\n",
        "\n",
        "\n",
        "# Make sure all linear layers are initialised randomly\n",
        "       nn.init.xavier_normal_(self.linear_in.weight)\n",
        "       #print(self.linear_in.weight)\n",
        "       nn.init.xavier_normal_(self.linear_out.weight)\n",
        "       #print(self.linear_out.weight)\n",
        "       nn.init.xavier_normal_(self.linear_hidden1.weight)\n",
        "       #print(self.linear_hidden1.weight)\n",
        "       nn.init.xavier_normal_(self.linear_hidden2.weight)\n",
        "       #print(self.linear_hidden2.weight)\n",
        "\n",
        "\n",
        "   def forward(self, x_in):\n",
        "# Define the forward pass function\n",
        "       output = self.linear_out(self.drop1(self.nonLinear3(self.linear_hidden2(self.drop2(self.nonLinear2(self.linear_hidden1(self.drop3(self.nonLinear1(self.linear_in(x_in))))))))))\n",
        "\n",
        "       return output"
      ],
      "execution_count": 28,
      "outputs": []
    },
    {
      "cell_type": "code",
      "metadata": {
        "id": "X1yLwGPjmI2E"
      },
      "source": [
        "class FFNN(nn.Module):\n",
        "   def __init__(self, inputDimension, outputDimension):\n",
        "       super(FFNN,self).__init__()\n",
        "\n",
        "\n",
        "       self.inputDimension = inputDimension\n",
        "       self.outputDimension = outputDimension\n",
        "\n",
        "\n",
        "       self.layer = DeepLayer(self.inputDimension, self.outputDimension)\n",
        "\n",
        "\n",
        "# define Loss. As it is a binary classifier, we use binary cross entropyloss\n",
        "# In case of multi-class, use Cross Entropy loss instead\n",
        "       self.bce_loss = nn.BCEWithLogitsLoss()\n",
        "       self.sigmoid = nn.Sigmoid()\n",
        "\n",
        "\n",
        "   def loss(self, x, y):\n",
        "\n",
        "\n",
        "       outputScores = self.layer(x)\n",
        "       loss = self.bce_loss(outputScores, y)\n",
        "# since our output is probability of the example belonging to class 1, we wrap a sigmoid function around the output layer. If using multiclass, use a softmax function instead\n",
        "       prob_output = self.sigmoid(outputScores)\n",
        "       return loss, prob_output, y\n",
        "\n",
        "\n",
        "   def forward(self, x):\n",
        "\n",
        "\n",
        "       outputScores = self.layer(x)\n",
        "       prob_output = self.sigmoid(outputScores)\n",
        "\n",
        "       return prob_output"
      ],
      "execution_count": 29,
      "outputs": []
    },
    {
      "cell_type": "code",
      "metadata": {
        "id": "9B0o6HowmLCp"
      },
      "source": [
        "def batch(iterable1, iterable2 , n=1):\n",
        "   l = len(iterable1)\n",
        "   for ndx in range(0, l, n):\n",
        "       yield iterable1[ndx:min(ndx + n, l)], iterable2[ndx:min(ndx + n, l)]\n",
        "\n"
      ],
      "execution_count": 30,
      "outputs": []
    },
    {
      "cell_type": "code",
      "metadata": {
        "id": "xsCPE1a6mN_b",
        "colab": {
          "base_uri": "https://localhost:8080/",
          "height": 66,
          "referenced_widgets": [
            "48835d25df7c4f66ac286de4136cc93a",
            "091bd65fc129476f9904dc96b751318d",
            "ec9f4f7a6e7b4143a6b28e715700c394",
            "6218dc7ce1a647fcba7c9081ad78d765",
            "c55bfca85ae1410d828a0a262c19117d",
            "afdf20e778024b7cb8e442a7d96b6339",
            "4fe2d3ff215646e187901513c4079ea7",
            "396930bd8fab4be09ef59121086a6517"
          ]
        },
        "outputId": "ad5691ab-5e16-4ffe-a178-1edf47403b81"
      },
      "source": [
        "# Get training and test examples ready\n",
        "X_tr = ft_df.to_numpy()\n",
        "X_te = np.asarray(test_features_ft)\n",
        "Y_tr = Y_train.to_numpy()[:,1]\n",
        "Y_te = Y_test.to_numpy()[:,1]\n",
        "\n",
        "\n",
        "# Initialise performance metrics\n",
        "precision = 0\n",
        "recall = 0\n",
        "fscore = 0\n",
        "\n",
        "\n",
        "# Initialise training parameters\n",
        "initial_lr = 0.1\n",
        "input_dimensions=len(X_tr[0])\n",
        "output_dimensions=1\n",
        "NUM_EPOCHS = 50\n",
        "BATCH_SIZE = 80\n",
        "\n",
        "\n",
        "# Initialize FFNN\n",
        "ff_nn = FFNN(input_dimensions,output_dimensions)\n",
        "\n",
        "\n",
        "# Start training\n",
        "for epoch in tqdm(range(1, NUM_EPOCHS)):\n",
        "   # update learning rate and optimizer params\n",
        "   lrate = initial_lr * np.exp(-0.1 * epoch)\n",
        "   optim = SGD(ff_nn.parameters(), lr=lrate, momentum=0.04, weight_decay=0.0, nesterov=True)\n",
        "   for inputs, labels in batch(X_tr, Y_tr, BATCH_SIZE):\n",
        "\n",
        "       input_tensor = torch.from_numpy(inputs).cuda().float()\n",
        "       output_tensor = torch.FloatTensor(labels).cuda().unsqueeze(1)\n",
        "\n",
        "\n",
        "       optim.zero_grad()\n",
        "       loss, _, _ = ff_nn.loss(input_tensor, output_tensor)\n",
        "\n",
        "\n",
        "       loss.backward()\n",
        "       optim.step()\n",
        "\n",
        "\n",
        "# Training is over, now, let us start eval"
      ],
      "execution_count": 31,
      "outputs": [
        {
          "output_type": "display_data",
          "data": {
            "application/vnd.jupyter.widget-view+json": {
              "model_id": "48835d25df7c4f66ac286de4136cc93a",
              "version_minor": 0,
              "version_major": 2
            },
            "text/plain": [
              "HBox(children=(FloatProgress(value=0.0, max=49.0), HTML(value='')))"
            ]
          },
          "metadata": {
            "tags": []
          }
        },
        {
          "output_type": "stream",
          "text": [
            "\n"
          ],
          "name": "stdout"
        }
      ]
    },
    {
      "cell_type": "code",
      "metadata": {
        "id": "HpFjN6-1mQY9",
        "colab": {
          "base_uri": "https://localhost:8080/"
        },
        "outputId": "5916c3f8-f595-4f3f-ff12-2107f369026f"
      },
      "source": [
        "ff_nn.eval()\n",
        "true = []\n",
        "predicted = []\n",
        "\n",
        "\n",
        "for inputs, labels in batch(X_te, Y_te, BATCH_SIZE):\n",
        "   input_tensor = torch.from_numpy(inputs).cuda().float()\n",
        "   true_labels = []\n",
        "   for i in range(labels.shape[0]):\n",
        "       true_labels.append(int(labels[i]))\n",
        "   true.extend(true_labels)\n",
        "\n",
        "\n",
        "   optim.zero_grad()\n",
        "   pred_labels = ff_nn.forward(input_tensor)\n",
        "   pred_output = pred_labels.data.cpu().numpy()\n",
        "   pred = []\n",
        "\n",
        "\n",
        "   for i in range(len(pred_output)):\n",
        "       # If output is above 0.5, we say the predicted label is 1, else 0\n",
        "       if pred_output[i] >= 0.5:\n",
        "           pred.append(1)\n",
        "       else:\n",
        "           pred.append(0)\n",
        "   predicted.extend(pred)\n",
        "\n",
        "\n",
        "precision = precision_score(true, predicted, average='weighted')\n",
        "recall = recall_score(true, predicted, average='weighted')\n",
        "fscore = f1_score(true, predicted, average='weighted')\n",
        "print(\"Logistic Regression Accuracy:\",metrics.accuracy_score(true,predicted))\n",
        "print(\"Logistic Regression Precision:\",precision)\n",
        "print(\"Logistic Regression Recall:\",recall)\n"
      ],
      "execution_count": 32,
      "outputs": [
        {
          "output_type": "stream",
          "text": [
            "Logistic Regression Accuracy: 0.5244444444444445\n",
            "Logistic Regression Precision: 0.5245663492063493\n",
            "Logistic Regression Recall: 0.5244444444444445\n"
          ],
          "name": "stdout"
        }
      ]
    },
    {
      "cell_type": "code",
      "metadata": {
        "id": "SlnXgNPvmRvb"
      },
      "source": [
        ""
      ],
      "execution_count": 32,
      "outputs": []
    }
  ]
}