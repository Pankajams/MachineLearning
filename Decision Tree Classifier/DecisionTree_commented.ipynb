{
  "nbformat": 4,
  "nbformat_minor": 0,
  "metadata": {
    "colab": {
      "name": "DecisionTree.ipynb",
      "provenance": [],
      "collapsed_sections": []
    },
    "kernelspec": {
      "name": "python3",
      "display_name": "Python 3"
    },
    "language_info": {
      "name": "python"
    }
  },
  "cells": [
    {
      "cell_type": "code",
      "metadata": {
        "id": "jO1tu_6Tl3i5"
      },
      "source": [
        "import numpy as np\n",
        "import matplotlib.pyplot as plt\n",
        "import pandas as pd\n",
        "import math\n",
        "import copy"
      ],
      "execution_count": 48,
      "outputs": []
    },
    {
      "cell_type": "code",
      "metadata": {
        "id": "lre2uUeFl7fW"
      },
      "source": [
        "dataset = pd.read_csv('/content/tennis.csv')\n",
        "X = dataset.iloc[:, 1:].values\n",
        "# print(X)\n",
        "attribute = ['outlook', 'temp', 'humidity', 'wind']"
      ],
      "execution_count": 49,
      "outputs": []
    },
    {
      "cell_type": "code",
      "metadata": {
        "id": "gSyv2_sCmdA8"
      },
      "source": [
        "class Node(object):\n",
        "    def __init__(self):\n",
        "        self.value = None  #attribute\n",
        "        self.decision = None  #high/normal/sunny/windy?\n",
        "        self.childs = None    "
      ],
      "execution_count": 50,
      "outputs": []
    },
    {
      "cell_type": "code",
      "metadata": {
        "id": "0F6-CrQumghJ"
      },
      "source": [
        "def findEntropy(data, rows): #Function to find the overall entropy of final yes/no\n",
        "    yes = 0\n",
        "    no = 0\n",
        "    ans = -1\n",
        "    idx = len(data[0]) - 1\n",
        "    entropy = 0\n",
        "    for i in rows:\n",
        "        if data[i][idx] == 'Yes':  #counter for yes/no.\n",
        "            yes = yes + 1\n",
        "        else:\n",
        "            no = no + 1\n",
        "\n",
        "    x = yes/(yes+no)\n",
        "    y = no/(yes+no)\n",
        "    if x != 0 and y != 0:\n",
        "        entropy = -1 * (x*math.log2(x) + y*math.log2(y))  #entropy calculation formula\n",
        "    if x == 1:\n",
        "        ans = 1\n",
        "    if y == 1:\n",
        "        ans = 0\n",
        "    return entropy, ans  #return entropy, and ans. ans (0/1) denotes the presence of leaf node."
      ],
      "execution_count": 40,
      "outputs": []
    },
    {
      "cell_type": "code",
      "metadata": {
        "id": "609M2BNGmlk9"
      },
      "source": [
        "def findMaxGain(data, rows, columns):  #function to calculate the maximum info gain\n",
        "    maxGain = 0\n",
        "    retidx = -1\n",
        "    entropy, ans = findEntropy(data, rows) #call entropy function\n",
        "\n",
        "    if entropy == 0:  #managing extremas\n",
        "        \"\"\"if ans == 1:\n",
        "            print(\"Yes\")\n",
        "        else:\n",
        "            print(\"No\")\"\"\"\n",
        "        return maxGain, retidx, ans\n",
        "\n",
        "    for j in columns:    #counter for each attribute element.\n",
        "        mydict = {}\n",
        "        idx = j\n",
        "        for i in rows:\n",
        "            key = data[i][idx]\n",
        "            if key not in mydict:\n",
        "                mydict[key] = 1\n",
        "            else:\n",
        "                mydict[key] = mydict[key] + 1\n",
        "        gain = entropy\n",
        "\n",
        "        print(mydict)\n",
        "        for key in mydict:    #counter for each mydict element which yeilds either yes/no in final play decision.\n",
        "            yes = 0\n",
        "            no = 0\n",
        "            for k in rows:\n",
        "                if data[k][j] == key:\n",
        "                    if data[k][-1] == 'Yes':\n",
        "                        yes = yes + 1\n",
        "                    else:\n",
        "                        no = no + 1\n",
        "            # print(yes, no)\n",
        "            x = yes/(yes+no)\n",
        "            y = no/(yes+no)\n",
        "            # print(x, y)\n",
        "            if x != 0 and y != 0:\n",
        "                gain += (mydict[key] * (x*math.log2(x) + y*math.log2(y)))/14    #gain calculation\n",
        "        # print(gain)\n",
        "        if gain > maxGain:  #update modified gain\n",
        "            # print(\"hello\")\n",
        "            maxGain = gain\n",
        "            retidx = j\n",
        "\n",
        "    return maxGain, retidx, ans   #return max gain, corresponding index id, and ans to denote if it is a leaf node or not"
      ],
      "execution_count": 41,
      "outputs": []
    },
    {
      "cell_type": "code",
      "metadata": {
        "id": "9H4pCbBZmqAF"
      },
      "source": [
        "def buildTree(data, rows, columns): # This is a recursice function\n",
        "\n",
        "    maxGain, idx, ans = findMaxGain(X, rows, columns) #idx = attribute\n",
        "    root = Node()  #object instance of node class\n",
        "    root.childs = []\n",
        "    # print(maxGain)\n",
        "\n",
        "    if maxGain == 0:   #check for leaf node\n",
        "        if ans == 1:\n",
        "            root.value = 'Yes'\n",
        "        else:\n",
        "            root.value = 'No'\n",
        "        return root\n",
        "\n",
        "    root.value = attribute[idx]   #we have top-most important attribute value now, calculated from findmaxgain()\n",
        "    mydict = {}\n",
        "    for i in rows:\n",
        "        key = data[i][idx]   #recalculate the corresponding probabilities, given a particular attribute at parent node. \n",
        "        if key not in mydict:\n",
        "            mydict[key] = 1\n",
        "        else:\n",
        "            mydict[key] += 1\n",
        "\n",
        "    newcolumns = copy.deepcopy(columns)  #for creating a copy of the columns by value.\n",
        "    newcolumns.remove(idx)     #remove the top parent node from the newcolums\n",
        "    for key in mydict:          #append the rows for the corresponding newcolumns.\n",
        "        newrows = []\n",
        "        for i in rows:\n",
        "            if data[i][idx] == key:\n",
        "                newrows.append(i)\n",
        "        # print(newrows)\n",
        "        temp = buildTree(data, newrows, newcolumns)  #recursively call this function again to find the next important attribute and so on.\n",
        "        temp.decision = key    \n",
        "        root.childs.append(temp)\n",
        "    return root"
      ],
      "execution_count": 42,
      "outputs": []
    },
    {
      "cell_type": "code",
      "metadata": {
        "id": "lAMTGbkPmtS6"
      },
      "source": [
        "def traverse(root): #again, a recursive function to print all the elements of the tree structure created above.\n",
        "    print('Decision:     ',root.decision)    \n",
        "    print('Value:       ',root.value)\n",
        "\n",
        "    n = len(root.childs)\n",
        "    if n > 0:\n",
        "        for i in range(0, n):\n",
        "            traverse(root.childs[i])\n",
        "\n",
        "\n",
        "def calculate():  \n",
        "    rows = [i for i in range(0, 14)]  #initiate with number of rows\n",
        "    columns = [i for i in range(0, 4)]  #initiate with number of attribute columns\n",
        "    root = buildTree(X, rows, columns)   #entire Decision tree is built by calling this function.\n",
        "    root.decision = 'Start'   # Begin!!\n",
        "    traverse(root)  # Traverse through the tree and print all the values."
      ],
      "execution_count": 43,
      "outputs": []
    },
    {
      "cell_type": "code",
      "metadata": {
        "colab": {
          "base_uri": "https://localhost:8080/"
        },
        "id": "njcVdTWjmwXu",
        "outputId": "87b75807-dfc4-46ff-8870-c1b3fc983647"
      },
      "source": [
        "\n",
        "calculate() #code starts from here. Invokes the calculate function"
      ],
      "execution_count": 44,
      "outputs": [
        {
          "output_type": "stream",
          "text": [
            "{'Sunny': 5, 'Overcast': 4, 'Rain': 5}\n",
            "{'Hot': 4, 'Mild': 6, 'Cool': 4}\n",
            "{'High': 7, 'Normal': 7}\n",
            "{'Weak': 8, 'Strong': 6}\n",
            "{'Hot': 2, 'Mild': 2, 'Cool': 1}\n",
            "{'High': 3, 'Normal': 2}\n",
            "{'Weak': 3, 'Strong': 2}\n",
            "{'Mild': 3, 'Cool': 2}\n",
            "{'High': 2, 'Normal': 3}\n",
            "{'Weak': 3, 'Strong': 2}\n",
            "Decision:      Start\n",
            "Value:        outlook\n",
            "Decision:      Sunny\n",
            "Value:        humidity\n",
            "Decision:      High\n",
            "Value:        No\n",
            "Decision:      Normal\n",
            "Value:        Yes\n",
            "Decision:      Overcast\n",
            "Value:        Yes\n",
            "Decision:      Rain\n",
            "Value:        wind\n",
            "Decision:      Weak\n",
            "Value:        Yes\n",
            "Decision:      Strong\n",
            "Value:        No\n"
          ],
          "name": "stdout"
        }
      ]
    }
  ]
}