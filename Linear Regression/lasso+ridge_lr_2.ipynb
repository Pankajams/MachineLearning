{
  "nbformat": 4,
  "nbformat_minor": 0,
  "metadata": {
    "colab": {
      "name": "lasso+ridge_lr_2 (1).ipynb",
      "provenance": [],
      "collapsed_sections": []
    },
    "kernelspec": {
      "name": "python3",
      "display_name": "Python 3"
    },
    "language_info": {
      "name": "python"
    }
  },
  "cells": [
    {
      "cell_type": "code",
      "metadata": {
        "id": "A_OEykv-hc52"
      },
      "source": [
        "# This Python 3 environment comes with many helpful analytics libraries installed\n",
        "# It is defined by the kaggle/python docker image: https://github.com/kaggle/docker-python\n",
        "# For example, here's several helpful packages to load in \n",
        "\n",
        "import numpy as np # linear algebra\n",
        "import pandas as pd # data processing, CSV file I/O (e.g. pd.read_csv)\n",
        "\n",
        "# Input data files are available in the \"../input/\" directory.\n",
        "# For example, running this (by clicking run or pressing Shift+Enter) will list the files in the input directory\n",
        "\n",
        "from subprocess import check_output\n",
        "#print(check_output([\"ls\", \"../input\"]).decode(\"utf8\"))\n",
        "\n",
        "# Any results you write to the current directory are saved as output."
      ],
      "execution_count": 3,
      "outputs": []
    },
    {
      "cell_type": "code",
      "metadata": {
        "id": "UjFs_pVLhoTl"
      },
      "source": [
        "#Load the libraries and data...\n",
        "import matplotlib.pyplot as plt\n",
        "import matplotlib.animation as animation\n",
        "\n",
        "data = pd.read_csv('/content/train.csv')"
      ],
      "execution_count": 4,
      "outputs": []
    },
    {
      "cell_type": "code",
      "metadata": {
        "id": "PhvPqoKkh2kJ",
        "colab": {
          "base_uri": "https://localhost:8080/"
        },
        "outputId": "8d0e0bbb-d694-4a87-b0b4-ced394a1a0a7"
      },
      "source": [
        "#Grab the relevant data, scale the predictor variable, and add a column of 1s for the gradient descent...\n",
        "x = data['GrLivArea']\n",
        "y = data['SalePrice']\n",
        "x = (x - x.mean()) / x.std()\n",
        "x = np.c_[np.ones(x.shape[0]), x] "
      ],
      "execution_count": 26,
      "outputs": [
        {
          "output_type": "stream",
          "text": [
            "(1460, 2)\n"
          ],
          "name": "stdout"
        }
      ]
    },
    {
      "cell_type": "code",
      "metadata": {
        "colab": {
          "base_uri": "https://localhost:8080/"
        },
        "id": "J75c1Iqvh_JL",
        "outputId": "8c903d97-db48-46a8-9c87-4f0d81f9c984"
      },
      "source": [
        "#GRADIENT DESCENT\n",
        "\n",
        "alpha = 0.001 #Step size\n",
        "iterations = 2000 #No. of iterations\n",
        "m = y.size #No. of data points\n",
        "np.random.seed(123) #Set the seed\n",
        "theta = np.random.rand(2) #Pick some random values to start with\n",
        "lasso_lambda = .02\n",
        "ridge_lambda = .02\n",
        "#GRADIENT DESCENT\n",
        "def gradient_descent(x, y, theta, iterations, alpha):\n",
        "    print(x.shape)\n",
        "    past_costs = []\n",
        "    past_thetas = [theta]\n",
        "    for i in range(iterations):\n",
        "\n",
        "        prediction = np.dot(x, theta)\n",
        "        error = prediction - y\n",
        "        # cost = 1/(2*m) * np.dot(error.T, error)\n",
        "        # cost = 1/(2*m) * np.dot(error.T, error) + lasso_lambda*sum(abs(theta))\n",
        "        cost = 1/(2*m) * np.dot(error.T, error) + ridge_lambda*sum((np.square(theta)))\n",
        "        past_costs.append(cost)\n",
        "        # theta = theta - (alpha * (1/m) * np.dot(x.T, error) )\n",
        "        # theta = theta - (alpha * ((1/m) * np.dot(x.T, error) + lasso_lambda*np.sign(theta)))\n",
        "        theta = theta - (alpha * ((1/m) * np.dot(x.T, error) + 2*ridge_lambda*theta))\n",
        "        past_thetas.append(theta)\n",
        "        \n",
        "    return past_thetas, past_costs\n",
        "\n",
        "#Pass the relevant variables to the function and get the new values back...\n",
        "past_thetas, past_costs = gradient_descent(x, y, theta, iterations, alpha)\n",
        "theta = past_thetas[-1]\n",
        "\n",
        "#Print the results...\n",
        "print(\"Gradient Descent: {:.2f}, {:.2f}\".format(theta[0], theta[1]))\n",
        "#normal  156460.76, 48673.43   \n",
        "#lasso 156460.74, 48673.41\n",
        "#ridge 152253.09, 47364.11"
      ],
      "execution_count": 69,
      "outputs": [
        {
          "output_type": "stream",
          "text": [
            "(1460, 2)\n",
            "Gradient Descent: 152253.09, 47364.11\n"
          ],
          "name": "stdout"
        }
      ]
    },
    {
      "cell_type": "code",
      "metadata": {
        "colab": {
          "base_uri": "https://localhost:8080/",
          "height": 295
        },
        "id": "t6ipA9WRiD4r",
        "outputId": "63a540e9-e16c-4d79-9048-136d0eb2d5dc"
      },
      "source": [
        "#Plot the cost function...\n",
        "plt.title('Cost Function J')\n",
        "plt.xlabel('No. of iterations')\n",
        "plt.ylabel('Cost')\n",
        "plt.plot(past_costs)\n",
        "plt.show()"
      ],
      "execution_count": 70,
      "outputs": [
        {
          "output_type": "display_data",
          "data": {
            "image/png": "[encoded data removed]",
            "text/plain": [
              "<Figure size 432x288 with 1 Axes>"
            ]
          },
          "metadata": {
            "tags": [],
            "needs_background": "light"
          }
        }
      ]
    }
  ]
}